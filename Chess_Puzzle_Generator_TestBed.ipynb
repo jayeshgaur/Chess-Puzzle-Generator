{
 "cells": [
  {
   "cell_type": "code",
   "metadata": {
    "colab": {
     "base_uri": "https://localhost:8080/"
    },
    "id": "Xsde-ojACiJc",
    "outputId": "c66f2f89-fa52-4e0f-e980-f4b58e388d4c",
    "cell_id": "ac136181-ef41-470f-ac69-81c1562b13b9",
    "deepnote_to_be_reexecuted": false,
    "source_hash": "8977373d",
    "execution_start": 1649787899774,
    "execution_millis": 5,
    "deepnote_cell_type": "code",
    "deepnote_cell_height": 99
   },
   "source": "mydrive = \"/work/Chess/\"\nstockfish_path = mydrive + \"Stockfish/stockfish_14.1_linux_x64_avx2/\"",
   "execution_count": null,
   "outputs": []
  },
  {
   "cell_type": "code",
   "metadata": {
    "id": "AiRVxuLkC0_N",
    "cell_id": "00001-b95c3aa5-243a-4647-9dcd-d006f19e517f",
    "deepnote_to_be_reexecuted": false,
    "source_hash": "8c9faabc",
    "execution_start": 1649788038148,
    "execution_millis": 0,
    "output_cleared": true,
    "deepnote_cell_type": "code",
    "deepnote_cell_height": 243
   },
   "source": "# \"\"\" Initial Installation for StockFish \"\"\"\n\n# %cd /work\n# !mkdir Chess\n# !mkdir Chess/Stockfish\n# %cd /work/Chess/Stockfish\n# !wget https://stockfishchess.org/files/stockfish_14.1_linux_x64_avx2.zip\n# !unzip stockfish_14.1_linux_x64_avx2.zip\n# !rm stockfish_14.1_linux_x64_avx2.zip\n# !chmod +x {stockfish_path}\"stockfish_14.1_linux_x64_avx2\"",
   "execution_count": null,
   "outputs": []
  },
  {
   "cell_type": "code",
   "metadata": {
    "colab": {
     "base_uri": "https://localhost:8080/"
    },
    "id": "9XPJO8IWDdfv",
    "outputId": "82fd1471-1d7e-4de6-fba3-dda3ffc0d03a",
    "cell_id": "00002-2d4a1127-9ef8-4d6e-b501-d2d8d505a2d7",
    "deepnote_to_be_reexecuted": false,
    "source_hash": "b77aa682",
    "execution_start": 1649788038498,
    "execution_millis": 9496,
    "output_cleared": false,
    "deepnote_cell_type": "code",
    "deepnote_cell_height": 457.8125
   },
   "source": "!pip install stockfish\n!pip install python-chess",
   "execution_count": null,
   "outputs": [
    {
     "name": "stdout",
     "text": "Collecting stockfish\n  Downloading stockfish-3.23.0-py3-none-any.whl (9.5 kB)\nInstalling collected packages: stockfish\nSuccessfully installed stockfish-3.23.0\n\u001b[33mWARNING: You are using pip version 20.1.1; however, version 22.0.4 is available.\nYou should consider upgrading via the '/root/venv/bin/python -m pip install --upgrade pip' command.\u001b[0m\nCollecting python-chess\n  Downloading python_chess-1.999-py3-none-any.whl (1.4 kB)\nCollecting chess<2,>=1\n  Downloading chess-1.9.0-py3-none-any.whl (147 kB)\n\u001b[K     |████████████████████████████████| 147 kB 25.8 MB/s \n\u001b[?25hInstalling collected packages: chess, python-chess\nSuccessfully installed chess-1.9.0 python-chess-1.999\n\u001b[33mWARNING: You are using pip version 20.1.1; however, version 22.0.4 is available.\nYou should consider upgrading via the '/root/venv/bin/python -m pip install --upgrade pip' command.\u001b[0m\n",
     "output_type": "stream"
    }
   ]
  },
  {
   "cell_type": "markdown",
   "source": "# Game State Representation",
   "metadata": {
    "id": "Ukv1VtiP57lo",
    "cell_id": "00003-08a1d6a6-6b52-4e6c-9502-0d38c40432c6",
    "deepnote_cell_type": "markdown",
    "deepnote_cell_height": 82
   }
  },
  {
   "cell_type": "code",
   "metadata": {
    "colab": {
     "base_uri": "https://localhost:8080/",
     "height": 421
    },
    "id": "e4013afb",
    "outputId": "9c317c1b-c028-468a-dee5-7969267cf2ba",
    "cell_id": "00008-90b3f7c7-a92f-473c-9858-196d3932f279",
    "deepnote_to_be_reexecuted": false,
    "source_hash": "f1bcff3c",
    "execution_start": 1649788048000,
    "execution_millis": 76,
    "deepnote_cell_type": "code",
    "deepnote_cell_height": 495
   },
   "source": "# Most of this cell is rip-off from python-chess library\n# We overwrite existing classes and functions for our requirements\n\nimport chess\nfrom chess import SQUARES, BB_RANKS, BB_SQUARES, BB_BACKRANKS\n\ndef square(file_index: int, rank_index: int):\n    \"\"\"Gets a square number by file and rank index.\"\"\"\n    return rank_index * 8 + file_index\n\nclass ChessBoard(chess.Board):\n    def find_move(self, from_square, to_square, promotion=None):\n        \"\"\"\n            Overridden to suppress move validation\n        \"\"\"\n        # if promotion is None and self.pawns & BB_SQUARES[from_square] and BB_SQUARES[to_square] & BB_BACKRANKS:\n            # promotion = QUEEN\n\n        return self._from_chess960(self.chess960, from_square, to_square, promotion)\n\nclass LegalMoves(chess.LegalMoveGenerator):\n    \"\"\" Add a new method to existing class to get desired format of moves \"\"\"\n    def to_array(self):\n        return [self.board.lan(move) for move in self]",
   "execution_count": null,
   "outputs": []
  },
  {
   "cell_type": "code",
   "metadata": {
    "cell_id": "3e1d202f2d7a4ff4abc8240074860ff3",
    "tags": [],
    "deepnote_to_be_reexecuted": false,
    "source_hash": "e91833d",
    "execution_start": 1649788048104,
    "execution_millis": 642,
    "deepnote_cell_type": "code",
    "deepnote_cell_height": 5883.375,
    "deepnote_output_heights": [
     null,
     392
    ]
   },
   "source": "import chess\nimport numpy as np\n\nfrom stockfish import Stockfish\nfrom chess import LegalMoveGenerator\nfrom IPython.display import display\n\nstockfish = Stockfish(stockfish_path + \"stockfish_14.1_linux_x64_avx2\")\n\ndef uci(move):\n    move = move.replace(\"+\", \"\")\n    return move[-5:].replace(\"-\", \"\")\n\ndef inverse(move):\n    return move[2:] + move[:2]\n\ndef flip_move(position):\n    arr = position.split()\n    arr[1] = \"b\" if arr[1] == \"w\" else \"w\"\n    return \" \".join(arr)\n\nclass State:\n    def __init__(self, fen: str, parent: str=None, move: str=None) -> None:\n        self.fen = fen\n        self.parent = parent\n        self.children = []\n\n    def add_child(self, fen_position: str) -> list:\n        self.children.append(fen_position)\n        return self.children\n\n    @property\n    def board(self) -> object:\n        display(chess.Board(self.fen))\n\n    def __str__(self) -> str:\n        return f\"{self.fen}: {[str(x.fen) for x in self.children]}\"\n\n    def __repr__(self) -> str:\n        return self.__str__()\n\n\nclass MoveGenerator:\n    \"\"\"\n        Previous moves list:\n            1. All possible legal (non-pawn) moves at a given position (Breaks down if opponent is in check)\n            2. Pawn Moves (back + uncapture)\n            3. En Passant (MAYBE we can skip this)\n            4. All possible legal moves + uncapture the moves\n            5. Un-Castle (not a priority)\n    \"\"\"\n    def __init__(self) -> None:\n        self.mapper = np.linspace(1, 64, num=64, dtype=int).reshape((8,8))\n        self.map_fen = {alpha: num for alpha, num in zip(\"abcdefgh\", range(8))}\n\n    @staticmethod\n    def board_numpy(board) -> str:\n        \"\"\" Return 2d array for the board position \"\"\"\n        board = board.split()[0].split(\"/\")\n\n        arr = list()\n        \n        for row in board:\n            res = \"\"\n            for val in row:\n                if val.isnumeric():\n                    res += int(val) * \"-\"\n                else:\n                    res += val\n            arr.append(list(res))\n\n        return np.array(arr)\n\n    def index_to_fen(self, index: int) -> str:\n        \"\"\" Convert 64-value index to board position \"\"\"\n        x, y = 8 - ((index - 1) // 8), (index - 1) % 8\n        y = \"abcdefgh\"[y]\n\n        return y + str(x) \n\n    def get_legal_moves(self, fen_pos: str) -> list:\n        board = ChessBoard(fen_pos)\n        legal = LegalMoves(board).to_array()\n        return [uci(x) for x in legal if not x.islower() and \"x\" not in x]\n\n    def get_capture_moves(self, fen_pos: list) -> list:\n        # TODO: Replace with all moves\n        moves = self.get_legal_moves(fen_pos)\n        moves = [move for move in moves if \"x\" in move]\n        return moves\n\n    def get_pawn_moves(self, fen_pos: str) -> None:\n        \"\"\" \n            Returns a tuple of (legal_moves, uncapture_moves) for all pawns of player in the given board\n            legal_moves: All non-capture moves from board (NOTE: does not validate for discover check)\n            uncapture_moves: Possible uncapture moves for all pawns (does not validate anything)\n                                -> Requires post-process for which piece to be uncaptured\n        \"\"\"\n        player = fen_pos.split()[1]\n        fen_pos = MoveGenerator.board_numpy(fen_pos)\n\n        possible_moves, uncapture_moves = [], []\n\n        available_pieces = list(zip(*np.where(fen_pos ==  'P'))) if player == \"w\" \\\n                        else list(zip(*np.where(fen_pos ==  'p')))\n\n        updates = {\n            \"w\": {\n                \"legal\": lambda x: x < 6,\n                \"double_move\": lambda x: x == 4,\n                \"update_one\": 8,\n                \"update_two\": 16,\n                \"capture_left\": 7,\n                \"capture_right\": 9,\n            },\n\n            \"b\": {\n                \"legal\": lambda x: x > 1,\n                \"double_move\": lambda x: x == 3,\n                \"update_one\": -8,\n                \"update_two\": -16,\n                \"capture_left\": -9,\n                \"capture_right\": -7,\n            }\n        }\n\n        for piece in available_pieces:\n            if updates[player][\"legal\"](piece[0]):\n                mapper_number = self.mapper[piece[0]][piece[1]]\n                possible_moves.append((mapper_number, (mapper_number + updates[player][\"update_one\"])))\n                if updates[player][\"double_move\"](piece[0]):\n                    possible_moves.append((mapper_number, (mapper_number + updates[player][\"update_two\"])))\n                uncapture = [(mapper_number, mapper_number + updates[player][\"capture_left\"]), \n                            (mapper_number, mapper_number + updates[player][\"capture_right\"])]\n                uncapture_moves.extend(uncapture)\n\n\n        legal_pawn_moves = [\n            self.index_to_fen(initial) + self.index_to_fen(end)\n            for initial, end in possible_moves\n            if fen_pos[np.where(self.mapper == end)] == '-'\n        ]\n\n        moves_to_remove = []\n        # Illegal pawn uncaptures (when space is not empty)\n        for move in uncapture_moves:\n            row, column = np.where(self.mapper == move[1])\n            row, column = row[0], column[0]\n            if(fen_pos[row][column] != '-'):\n                moves_to_remove.append(move)\n\n        uncapture_moves = [i for i in uncapture_moves if i not in moves_to_remove]\n\n        uncapture_pawn_moves = [self.index_to_fen(initial) + self.index_to_fen(end) for initial, end in uncapture_moves]\n        \n        for move in uncapture_pawn_moves:\n            move1 = int(move[1])\n            move3 = int(move[3])\n            if abs(move1 - move3) > 1 or abs(move1 - move3) == 0:\n                uncapture_pawn_moves.remove(move)\n        return {\n            \"back\": legal_pawn_moves,\n            \"uncapture\": uncapture_pawn_moves\n        }\n\n    def get_uncapture_moves(self, fen_pos:str, moves: list) -> list:\n        \"\"\" Return a list of FEN states that can be possible \"uncapture\" moves \"\"\"\n\n        fen_numpy = MoveGenerator.board_numpy(fen_pos)\n        player = fen_pos.split()[1]\n        opponent = \"w\" if player == \"b\" else \"b\"\n\n        # All chess pieces\n        pieces = ['P']*8 + ['R'] + ['N'] + ['B'] + ['Q'] + ['K'] + ['B'] + ['N'] + ['R']\n\n        # Fetch pieces already on the board\n        if(opponent == 'b'):\n            pieces = [piece.lower() for piece in pieces]\n            pieces_on_board = [character for character in fen_pos.split()[0] if character.islower()]            \n        else:\n            pieces_on_board = [character for character in fen_pos.split()[0] if character.isupper()]\n\n        # Pieces not on the board\n        for piece in pieces_on_board:\n            pieces.remove(piece)\n\n        # The same pieces will generate same uncapture states, so eliminate duplicates\n        uncapture_pieces = list(set(pieces))\n\n        previous_fens = []\n\n        # Outer loop for each move\n        for move in moves:\n\n            # Play the reverse chess move\n            board = ChessBoard(fen_pos)\n            board.push_san(move)\n\n            # For each piece for the current move\n            for piece in uncapture_pieces:\n                \n                # Split fen into chess board rows\n                rows_list = board.fen().split('/')\n                \n                # Retrieve the row string and column to insert the uncapture piece\n                row = rows_list[8-int(move[1])]\n                column_index = self.map_fen[move[0]]\n\n                # Convert the row string into list of characters for easy string manipulation\n                row = MoveGenerator.board_numpy(row)[0]\n\n                # Add the uncapture piece\n                row[column_index] = piece\n\n                # Update the fen\n                num_count = 0\n                string = \"\"\n                for char in row:\n                    if char == '-':\n                        num_count+=1\n                    else:\n                        string = string + (str(num_count) if num_count > 0 else \"\") + char\n                        num_count = 0\n                if num_count > 0:\n                    string = string + str(num_count)\n\n                rows_list[8-int(move[1])] = string\n                new_fen = \"/\".join(rows_list)\n                previous_fens.append((move, new_fen))\n\n        return previous_fens\n\n    def get_all_moves(self, fen_pos: str):\n        fen_pos = fen_pos.split()\n        fen_pos[1] = \"w\" if fen_pos[1] == \"b\" else \"b\"\n        fen_pos = \" \".join(fen_pos)\n        player = fen_pos.split()[1]\n        board = ChessBoard(fen_pos)\n\n        legal = self.get_legal_moves(fen_pos)\n\n        pawns = self.get_pawn_moves(fen_pos)\n        uncapture_fens = self.get_uncapture_moves(board.fen(), legal) + self.get_uncapture_moves(board.fen(), pawns[\"uncapture\"])\n\n        pawns_back = pawns[\"back\"]\n        legal_fens = []\n        pawns_back_fen = []\n\n        for move in legal:\n            board = ChessBoard(fen_pos)\n            board.push_san(move)\n\n            legal_fens.append((move, board.fen()))\n\n        for move in pawns_back:\n            board = ChessBoard(fen_pos)\n            board.push_san(move)\n            pawns_back_fen.append((move, board.fen()))\n\n        return legal_fens + pawns_back_fen + uncapture_fens\n\nclass GameState:\n\n    def __init__(self, initial_state: str) -> None:\n        self.initial = State(initial_state)\n        self.board = chess.Board(initial_state)\n        self.stockfish = Stockfish\n        self.move_generator = MoveGenerator()\n\n    @property\n    def player(self) -> str:\n        \"\"\" Returns the player (w/b)\"\"\"\n        return self.board.fen().split()[1]\n    \n    @property\n    def display_board(self) -> None:\n        print(f\"{'White' if self.player == 'w' else 'Black'} to move\")\n        display(self.board)\n\n    def get_all_moves(self) -> None:\n        # Main function to get all possible backtrack moves\n        # self.get_pawn_moves()\n        # self.get_legal_reverse_moves()\n        # self.get_special_moves()\n\n        return self.move_generator.get_all_moves(self.board.fen())\n\n    def flip_board(self) -> None:\n        # Flips the board and player's turn\n        self.board = board.mirror()\n        self.display_board()\n\n#test_position = \"2b2rk1/7p/6p1/RN1Pp3/1Pp1Pp2/6qP/1Q2B1P1/5K2 w - - 0 30\"\ntest_position = \"8/p7/1p6/1Pp1k2p/P1P1p2P/4K1P1/8/8 b - - 2 45\"\ngame = GameState(test_position)\nprint(len([x[0] for x in game.get_all_moves()]))\ngame.display_board",
   "execution_count": null,
   "outputs": [
    {
     "name": "stdout",
     "text": "51\nBlack to move\n",
     "output_type": "stream"
    },
    {
     "data": {
      "text/plain": "Board('8/p7/1p6/1Pp1k2p/P1P1p2P/4K1P1/8/8 b - - 2 45')",
      "image/svg+xml": "<svg baseProfile=\"tiny\" height=\"390\" version=\"1.2\" viewBox=\"0 0 390 390\" width=\"390\" xmlns=\"http://www.w3.org/2000/svg\" xmlns:xlink=\"http://www.w3.org/1999/xlink\"><desc><pre>. . . . . . . .\np . . . . . . .\n. p . . . . . .\n. P p . k . . p\nP . P . p . . P\n. . . . K . P .\n. . . . . . . .\n. . . . . . . .</pre></desc><defs><g class=\"white pawn\" id=\"white-pawn\"><path d=\"M22.5 9c-2.21 0-4 1.79-4 4 0 .89.29 1.71.78 2.38C17.33 16.5 16 18.59 16 21c0 2.03.94 3.84 2.41 5.03-3 1.06-7.41 5.55-7.41 13.47h23c0-7.92-4.41-12.41-7.41-13.47 1.47-1.19 2.41-3 2.41-5.03 0-2.41-1.33-4.5-3.28-5.62.49-.67.78-1.49.78-2.38 0-2.21-1.79-4-4-4z\" fill=\"#fff\" stroke=\"#000\" stroke-linecap=\"round\" stroke-width=\"1.5\" /></g><g class=\"white king\" fill=\"none\" fill-rule=\"evenodd\" id=\"white-king\" stroke=\"#000\" stroke-linecap=\"round\" stroke-linejoin=\"round\" stroke-width=\"1.5\"><path d=\"M22.5 11.63V6M20 8h5\" stroke-linejoin=\"miter\" /><path d=\"M22.5 25s4.5-7.5 3-10.5c0 0-1-2.5-3-2.5s-3 2.5-3 2.5c-1.5 3 3 10.5 3 10.5\" fill=\"#fff\" stroke-linecap=\"butt\" stroke-linejoin=\"miter\" /><path d=\"M11.5 37c5.5 3.5 15.5 3.5 21 0v-7s9-4.5 6-10.5c-4-6.5-13.5-3.5-16 4V27v-3.5c-3.5-7.5-13-10.5-16-4-3 6 5 10 5 10V37z\" fill=\"#fff\" /><path d=\"M11.5 30c5.5-3 15.5-3 21 0m-21 3.5c5.5-3 15.5-3 21 0m-21 3.5c5.5-3 15.5-3 21 0\" /></g><g class=\"black pawn\" id=\"black-pawn\"><path d=\"M22.5 9c-2.21 0-4 1.79-4 4 0 .89.29 1.71.78 2.38C17.33 16.5 16 18.59 16 21c0 2.03.94 3.84 2.41 5.03-3 1.06-7.41 5.55-7.41 13.47h23c0-7.92-4.41-12.41-7.41-13.47 1.47-1.19 2.41-3 2.41-5.03 0-2.41-1.33-4.5-3.28-5.62.49-.67.78-1.49.78-2.38 0-2.21-1.79-4-4-4z\" stroke=\"#000\" stroke-linecap=\"round\" stroke-width=\"1.5\" /></g><g class=\"black king\" fill=\"none\" fill-rule=\"evenodd\" id=\"black-king\" stroke=\"#000\" stroke-linecap=\"round\" stroke-linejoin=\"round\" stroke-width=\"1.5\"><path d=\"M22.5 11.63V6\" stroke-linejoin=\"miter\" /><path d=\"M22.5 25s4.5-7.5 3-10.5c0 0-1-2.5-3-2.5s-3 2.5-3 2.5c-1.5 3 3 10.5 3 10.5\" fill=\"#000\" stroke-linecap=\"butt\" stroke-linejoin=\"miter\" /><path d=\"M11.5 37c5.5 3.5 15.5 3.5 21 0v-7s9-4.5 6-10.5c-4-6.5-13.5-3.5-16 4V27v-3.5c-3.5-7.5-13-10.5-16-4-3 6 5 10 5 10V37z\" fill=\"#000\" /><path d=\"M20 8h5\" stroke-linejoin=\"miter\" /><path d=\"M32 29.5s8.5-4 6.03-9.65C34.15 14 25 18 22.5 24.5l.01 2.1-.01-2.1C20 18 9.906 14 6.997 19.85c-2.497 5.65 4.853 9 4.853 9M11.5 30c5.5-3 15.5-3 21 0m-21 3.5c5.5-3 15.5-3 21 0m-21 3.5c5.5-3 15.5-3 21 0\" stroke=\"#fff\" /></g></defs><rect fill=\"#212121\" height=\"390\" width=\"390\" x=\"0\" y=\"0\" /><g fill=\"#e5e5e5\" stroke=\"#e5e5e5\" transform=\"translate(20, 0) scale(0.75, 0.75)\"><path d=\"M23.328 10.016q-1.742 0-2.414.398-.672.398-.672 1.36 0 .765.5 1.218.508.445 1.375.445 1.196 0 1.914-.843.727-.852.727-2.258v-.32zm2.867-.594v4.992h-1.437v-1.328q-.492.797-1.227 1.18-.734.375-1.797.375-1.343 0-2.14-.75-.79-.758-.79-2.024 0-1.476.985-2.226.992-.75 2.953-.75h2.016V8.75q0-.992-.656-1.531-.649-.547-1.829-.547-.75 0-1.46.18-.711.18-1.368.539V6.062q.79-.304 1.532-.453.742-.156 1.445-.156 1.898 0 2.836.984.937.985.937 2.985z\" /></g><g fill=\"#e5e5e5\" stroke=\"#e5e5e5\" transform=\"translate(20, 375) scale(0.75, 0.75)\"><path d=\"M23.328 10.016q-1.742 0-2.414.398-.672.398-.672 1.36 0 .765.5 1.218.508.445 1.375.445 1.196 0 1.914-.843.727-.852.727-2.258v-.32zm2.867-.594v4.992h-1.437v-1.328q-.492.797-1.227 1.18-.734.375-1.797.375-1.343 0-2.14-.75-.79-.758-.79-2.024 0-1.476.985-2.226.992-.75 2.953-.75h2.016V8.75q0-.992-.656-1.531-.649-.547-1.829-.547-.75 0-1.46.18-.711.18-1.368.539V6.062q.79-.304 1.532-.453.742-.156 1.445-.156 1.898 0 2.836.984.937.985.937 2.985z\" /></g><g fill=\"#e5e5e5\" stroke=\"#e5e5e5\" transform=\"translate(65, 0) scale(0.75, 0.75)\"><path d=\"M24.922 10.047q0-1.586-.656-2.485-.649-.906-1.79-.906-1.14 0-1.796.906-.649.899-.649 2.485 0 1.586.649 2.492.656.898 1.797.898 1.14 0 1.789-.898.656-.906.656-2.492zm-4.89-3.055q.452-.781 1.14-1.156.695-.383 1.656-.383 1.594 0 2.586 1.266 1 1.265 1 3.328 0 2.062-1 3.328-.992 1.266-2.586 1.266-.96 0-1.656-.375-.688-.383-1.14-1.164v1.312h-1.446V2.258h1.445z\" /></g><g fill=\"#e5e5e5\" stroke=\"#e5e5e5\" transform=\"translate(65, 375) scale(0.75, 0.75)\"><path d=\"M24.922 10.047q0-1.586-.656-2.485-.649-.906-1.79-.906-1.14 0-1.796.906-.649.899-.649 2.485 0 1.586.649 2.492.656.898 1.797.898 1.14 0 1.789-.898.656-.906.656-2.492zm-4.89-3.055q.452-.781 1.14-1.156.695-.383 1.656-.383 1.594 0 2.586 1.266 1 1.265 1 3.328 0 2.062-1 3.328-.992 1.266-2.586 1.266-.96 0-1.656-.375-.688-.383-1.14-1.164v1.312h-1.446V2.258h1.445z\" /></g><g fill=\"#e5e5e5\" stroke=\"#e5e5e5\" transform=\"translate(110, 0) scale(0.75, 0.75)\"><path d=\"M25.96 6v1.344q-.608-.336-1.226-.5-.609-.172-1.234-.172-1.398 0-2.172.89-.773.883-.773 2.485 0 1.601.773 2.492.774.883 2.172.883.625 0 1.234-.164.618-.172 1.227-.508v1.328q-.602.281-1.25.422-.64.14-1.367.14-1.977 0-3.14-1.242-1.165-1.242-1.165-3.351 0-2.14 1.172-3.367 1.18-1.227 3.227-1.227.664 0 1.296.14.633.134 1.227.407z\" /></g><g fill=\"#e5e5e5\" stroke=\"#e5e5e5\" transform=\"translate(110, 375) scale(0.75, 0.75)\"><path d=\"M25.96 6v1.344q-.608-.336-1.226-.5-.609-.172-1.234-.172-1.398 0-2.172.89-.773.883-.773 2.485 0 1.601.773 2.492.774.883 2.172.883.625 0 1.234-.164.618-.172 1.227-.508v1.328q-.602.281-1.25.422-.64.14-1.367.14-1.977 0-3.14-1.242-1.165-1.242-1.165-3.351 0-2.14 1.172-3.367 1.18-1.227 3.227-1.227.664 0 1.296.14.633.134 1.227.407z\" /></g><g fill=\"#e5e5e5\" stroke=\"#e5e5e5\" transform=\"translate(155, 0) scale(0.75, 0.75)\"><path d=\"M24.973 6.992V2.258h1.437v12.156h-1.437v-1.312q-.453.78-1.149 1.164-.687.375-1.656.375-1.586 0-2.586-1.266-.992-1.266-.992-3.328 0-2.063.992-3.328 1-1.266 2.586-1.266.969 0 1.656.383.696.375 1.149 1.156zm-4.899 3.055q0 1.586.649 2.492.656.898 1.797.898 1.14 0 1.796-.898.657-.906.657-2.492 0-1.586-.657-2.485-.656-.906-1.796-.906-1.141 0-1.797.906-.649.899-.649 2.485z\" /></g><g fill=\"#e5e5e5\" stroke=\"#e5e5e5\" transform=\"translate(155, 375) scale(0.75, 0.75)\"><path d=\"M24.973 6.992V2.258h1.437v12.156h-1.437v-1.312q-.453.78-1.149 1.164-.687.375-1.656.375-1.586 0-2.586-1.266-.992-1.266-.992-3.328 0-2.063.992-3.328 1-1.266 2.586-1.266.969 0 1.656.383.696.375 1.149 1.156zm-4.899 3.055q0 1.586.649 2.492.656.898 1.797.898 1.14 0 1.796-.898.657-.906.657-2.492 0-1.586-.657-2.485-.656-.906-1.796-.906-1.141 0-1.797.906-.649.899-.649 2.485z\" /></g><g fill=\"#e5e5e5\" stroke=\"#e5e5e5\" transform=\"translate(200, 0) scale(0.75, 0.75)\"><path d=\"M26.555 9.68v.703h-6.61q.094 1.484.89 2.265.806.774 2.235.774.828 0 1.602-.203.781-.203 1.547-.61v1.36q-.774.328-1.586.5-.813.172-1.649.172-2.093 0-3.32-1.22-1.219-1.218-1.219-3.296 0-2.148 1.157-3.406 1.164-1.266 3.132-1.266 1.766 0 2.79 1.14 1.03 1.134 1.03 3.087zm-1.438-.422q-.015-1.18-.664-1.883-.64-.703-1.703-.703-1.203 0-1.93.68-.718.68-.828 1.914z\" /></g><g fill=\"#e5e5e5\" stroke=\"#e5e5e5\" transform=\"translate(200, 375) scale(0.75, 0.75)\"><path d=\"M26.555 9.68v.703h-6.61q.094 1.484.89 2.265.806.774 2.235.774.828 0 1.602-.203.781-.203 1.547-.61v1.36q-.774.328-1.586.5-.813.172-1.649.172-2.093 0-3.32-1.22-1.219-1.218-1.219-3.296 0-2.148 1.157-3.406 1.164-1.266 3.132-1.266 1.766 0 2.79 1.14 1.03 1.134 1.03 3.087zm-1.438-.422q-.015-1.18-.664-1.883-.64-.703-1.703-.703-1.203 0-1.93.68-.718.68-.828 1.914z\" /></g><g fill=\"#e5e5e5\" stroke=\"#e5e5e5\" transform=\"translate(245, 0) scale(0.75, 0.75)\"><path d=\"M25.285 2.258v1.195H23.91q-.773 0-1.078.313-.297.312-.297 1.125v.773h2.367v1.117h-2.367v7.633H21.09V6.781h-1.375V5.664h1.375v-.61q0-1.46.68-2.124.68-.672 2.156-.672z\" /></g><g fill=\"#e5e5e5\" stroke=\"#e5e5e5\" transform=\"translate(245, 375) scale(0.75, 0.75)\"><path d=\"M25.285 2.258v1.195H23.91q-.773 0-1.078.313-.297.312-.297 1.125v.773h2.367v1.117h-2.367v7.633H21.09V6.781h-1.375V5.664h1.375v-.61q0-1.46.68-2.124.68-.672 2.156-.672z\" /></g><g fill=\"#e5e5e5\" stroke=\"#e5e5e5\" transform=\"translate(290, 0) scale(0.75, 0.75)\"><path d=\"M24.973 9.937q0-1.562-.649-2.421-.64-.86-1.804-.86-1.157 0-1.805.86-.64.859-.64 2.421 0 1.555.64 2.415.648.859 1.805.859 1.164 0 1.804-.86.649-.859.649-2.414zm1.437 3.391q0 2.234-.992 3.32-.992 1.094-3.04 1.094-.757 0-1.429-.117-.672-.11-1.304-.344v-1.398q.632.344 1.25.508.617.164 1.257.164 1.414 0 2.118-.743.703-.734.703-2.226v-.711q-.446.773-1.141 1.156-.695.383-1.664.383-1.61 0-2.594-1.227-.984-1.226-.984-3.25 0-2.03.984-3.257.985-1.227 2.594-1.227.969 0 1.664.383t1.14 1.156V5.664h1.438z\" /></g><g fill=\"#e5e5e5\" stroke=\"#e5e5e5\" transform=\"translate(290, 375) scale(0.75, 0.75)\"><path d=\"M24.973 9.937q0-1.562-.649-2.421-.64-.86-1.804-.86-1.157 0-1.805.86-.64.859-.64 2.421 0 1.555.64 2.415.648.859 1.805.859 1.164 0 1.804-.86.649-.859.649-2.414zm1.437 3.391q0 2.234-.992 3.32-.992 1.094-3.04 1.094-.757 0-1.429-.117-.672-.11-1.304-.344v-1.398q.632.344 1.25.508.617.164 1.257.164 1.414 0 2.118-.743.703-.734.703-2.226v-.711q-.446.773-1.141 1.156-.695.383-1.664.383-1.61 0-2.594-1.227-.984-1.226-.984-3.25 0-2.03.984-3.257.985-1.227 2.594-1.227.969 0 1.664.383t1.14 1.156V5.664h1.438z\" /></g><g fill=\"#e5e5e5\" stroke=\"#e5e5e5\" transform=\"translate(335, 0) scale(0.75, 0.75)\"><path d=\"M26.164 9.133v5.281h-1.437V9.18q0-1.243-.485-1.86-.484-.617-1.453-.617-1.164 0-1.836.742-.672.742-.672 2.024v4.945h-1.445V2.258h1.445v4.765q.516-.789 1.211-1.18.703-.39 1.617-.39 1.508 0 2.282.938.773.93.773 2.742z\" /></g><g fill=\"#e5e5e5\" stroke=\"#e5e5e5\" transform=\"translate(335, 375) scale(0.75, 0.75)\"><path d=\"M26.164 9.133v5.281h-1.437V9.18q0-1.243-.485-1.86-.484-.617-1.453-.617-1.164 0-1.836.742-.672.742-.672 2.024v4.945h-1.445V2.258h1.445v4.765q.516-.789 1.211-1.18.703-.39 1.617-.39 1.508 0 2.282.938.773.93.773 2.742z\" /></g><g fill=\"#e5e5e5\" stroke=\"#e5e5e5\" transform=\"translate(0, 335) scale(0.75, 0.75)\"><path d=\"M6.754 26.996h2.578v-8.898l-2.805.562v-1.437l2.79-.563h1.578v10.336h2.578v1.328h-6.72z\" /></g><g fill=\"#e5e5e5\" stroke=\"#e5e5e5\" transform=\"translate(375, 335) scale(0.75, 0.75)\"><path d=\"M6.754 26.996h2.578v-8.898l-2.805.562v-1.437l2.79-.563h1.578v10.336h2.578v1.328h-6.72z\" /></g><g fill=\"#e5e5e5\" stroke=\"#e5e5e5\" transform=\"translate(0, 290) scale(0.75, 0.75)\"><path d=\"M8.195 26.996h5.508v1.328H6.297v-1.328q.898-.93 2.445-2.492 1.555-1.57 1.953-2.024.758-.851 1.055-1.437.305-.594.305-1.164 0-.93-.657-1.516-.648-.586-1.695-.586-.742 0-1.57.258-.82.258-1.758.781v-1.593q.953-.383 1.781-.578.828-.196 1.516-.196 1.812 0 2.89.906 1.079.907 1.079 2.422 0 .72-.274 1.368-.265.64-.976 1.515-.196.227-1.243 1.313-1.046 1.078-2.953 3.023z\" /></g><g fill=\"#e5e5e5\" stroke=\"#e5e5e5\" transform=\"translate(375, 290) scale(0.75, 0.75)\"><path d=\"M8.195 26.996h5.508v1.328H6.297v-1.328q.898-.93 2.445-2.492 1.555-1.57 1.953-2.024.758-.851 1.055-1.437.305-.594.305-1.164 0-.93-.657-1.516-.648-.586-1.695-.586-.742 0-1.57.258-.82.258-1.758.781v-1.593q.953-.383 1.781-.578.828-.196 1.516-.196 1.812 0 2.89.906 1.079.907 1.079 2.422 0 .72-.274 1.368-.265.64-.976 1.515-.196.227-1.243 1.313-1.046 1.078-2.953 3.023z\" /></g><g fill=\"#e5e5e5\" stroke=\"#e5e5e5\" transform=\"translate(0, 245) scale(0.75, 0.75)\"><path d=\"M11.434 22.035q1.132.242 1.765 1.008.64.766.64 1.89 0 1.727-1.187 2.672-1.187.946-3.375.946-.734 0-1.515-.149-.774-.14-1.602-.43V26.45q.656.383 1.438.578.78.196 1.632.196 1.485 0 2.258-.586.782-.586.782-1.703 0-1.032-.727-1.61-.719-.586-2.008-.586h-1.36v-1.297h1.423q1.164 0 1.78-.46.618-.47.618-1.344 0-.899-.64-1.375-.633-.485-1.82-.485-.65 0-1.391.141-.743.14-1.633.437V16.95q.898-.25 1.68-.375.788-.125 1.484-.125 1.797 0 2.844.82 1.046.813 1.046 2.204 0 .968-.554 1.64-.555.664-1.578.922z\" /></g><g fill=\"#e5e5e5\" stroke=\"#e5e5e5\" transform=\"translate(375, 245) scale(0.75, 0.75)\"><path d=\"M11.434 22.035q1.132.242 1.765 1.008.64.766.64 1.89 0 1.727-1.187 2.672-1.187.946-3.375.946-.734 0-1.515-.149-.774-.14-1.602-.43V26.45q.656.383 1.438.578.78.196 1.632.196 1.485 0 2.258-.586.782-.586.782-1.703 0-1.032-.727-1.61-.719-.586-2.008-.586h-1.36v-1.297h1.423q1.164 0 1.78-.46.618-.47.618-1.344 0-.899-.64-1.375-.633-.485-1.82-.485-.65 0-1.391.141-.743.14-1.633.437V16.95q.898-.25 1.68-.375.788-.125 1.484-.125 1.797 0 2.844.82 1.046.813 1.046 2.204 0 .968-.554 1.64-.555.664-1.578.922z\" /></g><g fill=\"#e5e5e5\" stroke=\"#e5e5e5\" transform=\"translate(0, 200) scale(0.75, 0.75)\"><path d=\"M11.016 18.035L7.03 24.262h3.985zm-.414-1.375h1.984v7.602h1.664v1.312h-1.664v2.75h-1.57v-2.75H5.75v-1.523z\" /></g><g fill=\"#e5e5e5\" stroke=\"#e5e5e5\" transform=\"translate(375, 200) scale(0.75, 0.75)\"><path d=\"M11.016 18.035L7.03 24.262h3.985zm-.414-1.375h1.984v7.602h1.664v1.312h-1.664v2.75h-1.57v-2.75H5.75v-1.523z\" /></g><g fill=\"#e5e5e5\" stroke=\"#e5e5e5\" transform=\"translate(0, 155) scale(0.75, 0.75)\"><path d=\"M6.719 16.66h6.195v1.328h-4.75v2.86q.344-.118.688-.172.343-.063.687-.063 1.953 0 3.094 1.07 1.14 1.07 1.14 2.899 0 1.883-1.171 2.93-1.172 1.039-3.305 1.039-.735 0-1.5-.125-.758-.125-1.57-.375v-1.586q.703.383 1.453.57.75.188 1.586.188 1.351 0 2.14-.711.79-.711.79-1.93 0-1.219-.79-1.93-.789-.71-2.14-.71-.633 0-1.266.14-.625.14-1.281.438z\" /></g><g fill=\"#e5e5e5\" stroke=\"#e5e5e5\" transform=\"translate(375, 155) scale(0.75, 0.75)\"><path d=\"M6.719 16.66h6.195v1.328h-4.75v2.86q.344-.118.688-.172.343-.063.687-.063 1.953 0 3.094 1.07 1.14 1.07 1.14 2.899 0 1.883-1.171 2.93-1.172 1.039-3.305 1.039-.735 0-1.5-.125-.758-.125-1.57-.375v-1.586q.703.383 1.453.57.75.188 1.586.188 1.351 0 2.14-.711.79-.711.79-1.93 0-1.219-.79-1.93-.789-.71-2.14-.71-.633 0-1.266.14-.625.14-1.281.438z\" /></g><g fill=\"#e5e5e5\" stroke=\"#e5e5e5\" transform=\"translate(0, 110) scale(0.75, 0.75)\"><path d=\"M10.137 21.863q-1.063 0-1.688.727-.617.726-.617 1.992 0 1.258.617 1.992.625.727 1.688.727 1.062 0 1.68-.727.624-.734.624-1.992 0-1.266-.625-1.992-.617-.727-1.68-.727zm3.133-4.945v1.437q-.594-.28-1.204-.43-.601-.148-1.195-.148-1.562 0-2.39 1.055-.82 1.055-.938 3.188.46-.68 1.156-1.04.696-.367 1.531-.367 1.758 0 2.774 1.07 1.023 1.063 1.023 2.899 0 1.797-1.062 2.883-1.063 1.086-2.828 1.086-2.024 0-3.094-1.547-1.07-1.555-1.07-4.5 0-2.766 1.312-4.406 1.313-1.649 3.524-1.649.593 0 1.195.117.61.118 1.266.352z\" /></g><g fill=\"#e5e5e5\" stroke=\"#e5e5e5\" transform=\"translate(375, 110) scale(0.75, 0.75)\"><path d=\"M10.137 21.863q-1.063 0-1.688.727-.617.726-.617 1.992 0 1.258.617 1.992.625.727 1.688.727 1.062 0 1.68-.727.624-.734.624-1.992 0-1.266-.625-1.992-.617-.727-1.68-.727zm3.133-4.945v1.437q-.594-.28-1.204-.43-.601-.148-1.195-.148-1.562 0-2.39 1.055-.82 1.055-.938 3.188.46-.68 1.156-1.04.696-.367 1.531-.367 1.758 0 2.774 1.07 1.023 1.063 1.023 2.899 0 1.797-1.062 2.883-1.063 1.086-2.828 1.086-2.024 0-3.094-1.547-1.07-1.555-1.07-4.5 0-2.766 1.312-4.406 1.313-1.649 3.524-1.649.593 0 1.195.117.61.118 1.266.352z\" /></g><g fill=\"#e5e5e5\" stroke=\"#e5e5e5\" transform=\"translate(0, 65) scale(0.75, 0.75)\"><path d=\"M6.25 16.66h7.5v.672L9.516 28.324H7.867l3.985-10.336H6.25z\" /></g><g fill=\"#e5e5e5\" stroke=\"#e5e5e5\" transform=\"translate(375, 65) scale(0.75, 0.75)\"><path d=\"M6.25 16.66h7.5v.672L9.516 28.324H7.867l3.985-10.336H6.25z\" /></g><g fill=\"#e5e5e5\" stroke=\"#e5e5e5\" transform=\"translate(0, 20) scale(0.75, 0.75)\"><path d=\"M10 22.785q-1.125 0-1.773.602-.641.601-.641 1.656t.64 1.656q.649.602 1.774.602t1.773-.602q.649-.61.649-1.656 0-1.055-.649-1.656-.64-.602-1.773-.602zm-1.578-.672q-1.016-.25-1.586-.945-.563-.695-.563-1.695 0-1.399.993-2.211 1-.813 2.734-.813 1.742 0 2.734.813.993.812.993 2.21 0 1-.57 1.696-.563.695-1.571.945 1.14.266 1.773 1.04.641.773.641 1.89 0 1.695-1.04 2.602-1.03.906-2.96.906t-2.969-.906Q6 26.738 6 25.043q0-1.117.64-1.89.641-.774 1.782-1.04zm-.578-2.492q0 .906.562 1.414.57.508 1.594.508 1.016 0 1.586-.508.578-.508.578-1.414 0-.906-.578-1.414-.57-.508-1.586-.508-1.023 0-1.594.508-.562.508-.562 1.414z\" /></g><g fill=\"#e5e5e5\" stroke=\"#e5e5e5\" transform=\"translate(375, 20) scale(0.75, 0.75)\"><path d=\"M10 22.785q-1.125 0-1.773.602-.641.601-.641 1.656t.64 1.656q.649.602 1.774.602t1.773-.602q.649-.61.649-1.656 0-1.055-.649-1.656-.64-.602-1.773-.602zm-1.578-.672q-1.016-.25-1.586-.945-.563-.695-.563-1.695 0-1.399.993-2.211 1-.813 2.734-.813 1.742 0 2.734.813.993.812.993 2.21 0 1-.57 1.696-.563.695-1.571.945 1.14.266 1.773 1.04.641.773.641 1.89 0 1.695-1.04 2.602-1.03.906-2.96.906t-2.969-.906Q6 26.738 6 25.043q0-1.117.64-1.89.641-.774 1.782-1.04zm-.578-2.492q0 .906.562 1.414.57.508 1.594.508 1.016 0 1.586-.508.578-.508.578-1.414 0-.906-.578-1.414-.57-.508-1.586-.508-1.023 0-1.594.508-.562.508-.562 1.414z\" /></g><rect class=\"square dark a1\" fill=\"#d18b47\" height=\"45\" stroke=\"none\" width=\"45\" x=\"15\" y=\"330\" /><rect class=\"square light b1\" fill=\"#ffce9e\" height=\"45\" stroke=\"none\" width=\"45\" x=\"60\" y=\"330\" /><rect class=\"square dark c1\" fill=\"#d18b47\" height=\"45\" stroke=\"none\" width=\"45\" x=\"105\" y=\"330\" /><rect class=\"square light d1\" fill=\"#ffce9e\" height=\"45\" stroke=\"none\" width=\"45\" x=\"150\" y=\"330\" /><rect class=\"square dark e1\" fill=\"#d18b47\" height=\"45\" stroke=\"none\" width=\"45\" x=\"195\" y=\"330\" /><rect class=\"square light f1\" fill=\"#ffce9e\" height=\"45\" stroke=\"none\" width=\"45\" x=\"240\" y=\"330\" /><rect class=\"square dark g1\" fill=\"#d18b47\" height=\"45\" stroke=\"none\" width=\"45\" x=\"285\" y=\"330\" /><rect class=\"square light h1\" fill=\"#ffce9e\" height=\"45\" stroke=\"none\" width=\"45\" x=\"330\" y=\"330\" /><rect class=\"square light a2\" fill=\"#ffce9e\" height=\"45\" stroke=\"none\" width=\"45\" x=\"15\" y=\"285\" /><rect class=\"square dark b2\" fill=\"#d18b47\" height=\"45\" stroke=\"none\" width=\"45\" x=\"60\" y=\"285\" /><rect class=\"square light c2\" fill=\"#ffce9e\" height=\"45\" stroke=\"none\" width=\"45\" x=\"105\" y=\"285\" /><rect class=\"square dark d2\" fill=\"#d18b47\" height=\"45\" stroke=\"none\" width=\"45\" x=\"150\" y=\"285\" /><rect class=\"square light e2\" fill=\"#ffce9e\" height=\"45\" stroke=\"none\" width=\"45\" x=\"195\" y=\"285\" /><rect class=\"square dark f2\" fill=\"#d18b47\" height=\"45\" stroke=\"none\" width=\"45\" x=\"240\" y=\"285\" /><rect class=\"square light g2\" fill=\"#ffce9e\" height=\"45\" stroke=\"none\" width=\"45\" x=\"285\" y=\"285\" /><rect class=\"square dark h2\" fill=\"#d18b47\" height=\"45\" stroke=\"none\" width=\"45\" x=\"330\" y=\"285\" /><rect class=\"square dark a3\" fill=\"#d18b47\" height=\"45\" stroke=\"none\" width=\"45\" x=\"15\" y=\"240\" /><rect class=\"square light b3\" fill=\"#ffce9e\" height=\"45\" stroke=\"none\" width=\"45\" x=\"60\" y=\"240\" /><rect class=\"square dark c3\" fill=\"#d18b47\" height=\"45\" stroke=\"none\" width=\"45\" x=\"105\" y=\"240\" /><rect class=\"square light d3\" fill=\"#ffce9e\" height=\"45\" stroke=\"none\" width=\"45\" x=\"150\" y=\"240\" /><rect class=\"square dark e3\" fill=\"#d18b47\" height=\"45\" stroke=\"none\" width=\"45\" x=\"195\" y=\"240\" /><rect class=\"square light f3\" fill=\"#ffce9e\" height=\"45\" stroke=\"none\" width=\"45\" x=\"240\" y=\"240\" /><rect class=\"square dark g3\" fill=\"#d18b47\" height=\"45\" stroke=\"none\" width=\"45\" x=\"285\" y=\"240\" /><rect class=\"square light h3\" fill=\"#ffce9e\" height=\"45\" stroke=\"none\" width=\"45\" x=\"330\" y=\"240\" /><rect class=\"square light a4\" fill=\"#ffce9e\" height=\"45\" stroke=\"none\" width=\"45\" x=\"15\" y=\"195\" /><rect class=\"square dark b4\" fill=\"#d18b47\" height=\"45\" stroke=\"none\" width=\"45\" x=\"60\" y=\"195\" /><rect class=\"square light c4\" fill=\"#ffce9e\" height=\"45\" stroke=\"none\" width=\"45\" x=\"105\" y=\"195\" /><rect class=\"square dark d4\" fill=\"#d18b47\" height=\"45\" stroke=\"none\" width=\"45\" x=\"150\" y=\"195\" /><rect class=\"square light e4\" fill=\"#ffce9e\" height=\"45\" stroke=\"none\" width=\"45\" x=\"195\" y=\"195\" /><rect class=\"square dark f4\" fill=\"#d18b47\" height=\"45\" stroke=\"none\" width=\"45\" x=\"240\" y=\"195\" /><rect class=\"square light g4\" fill=\"#ffce9e\" height=\"45\" stroke=\"none\" width=\"45\" x=\"285\" y=\"195\" /><rect class=\"square dark h4\" fill=\"#d18b47\" height=\"45\" stroke=\"none\" width=\"45\" x=\"330\" y=\"195\" /><rect class=\"square dark a5\" fill=\"#d18b47\" height=\"45\" stroke=\"none\" width=\"45\" x=\"15\" y=\"150\" /><rect class=\"square light b5\" fill=\"#ffce9e\" height=\"45\" stroke=\"none\" width=\"45\" x=\"60\" y=\"150\" /><rect class=\"square dark c5\" fill=\"#d18b47\" height=\"45\" stroke=\"none\" width=\"45\" x=\"105\" y=\"150\" /><rect class=\"square light d5\" fill=\"#ffce9e\" height=\"45\" stroke=\"none\" width=\"45\" x=\"150\" y=\"150\" /><rect class=\"square dark e5\" fill=\"#d18b47\" height=\"45\" stroke=\"none\" width=\"45\" x=\"195\" y=\"150\" /><rect class=\"square light f5\" fill=\"#ffce9e\" height=\"45\" stroke=\"none\" width=\"45\" x=\"240\" y=\"150\" /><rect class=\"square dark g5\" fill=\"#d18b47\" height=\"45\" stroke=\"none\" width=\"45\" x=\"285\" y=\"150\" /><rect class=\"square light h5\" fill=\"#ffce9e\" height=\"45\" stroke=\"none\" width=\"45\" x=\"330\" y=\"150\" /><rect class=\"square light a6\" fill=\"#ffce9e\" height=\"45\" stroke=\"none\" width=\"45\" x=\"15\" y=\"105\" /><rect class=\"square dark b6\" fill=\"#d18b47\" height=\"45\" stroke=\"none\" width=\"45\" x=\"60\" y=\"105\" /><rect class=\"square light c6\" fill=\"#ffce9e\" height=\"45\" stroke=\"none\" width=\"45\" x=\"105\" y=\"105\" /><rect class=\"square dark d6\" fill=\"#d18b47\" height=\"45\" stroke=\"none\" width=\"45\" x=\"150\" y=\"105\" /><rect class=\"square light e6\" fill=\"#ffce9e\" height=\"45\" stroke=\"none\" width=\"45\" x=\"195\" y=\"105\" /><rect class=\"square dark f6\" fill=\"#d18b47\" height=\"45\" stroke=\"none\" width=\"45\" x=\"240\" y=\"105\" /><rect class=\"square light g6\" fill=\"#ffce9e\" height=\"45\" stroke=\"none\" width=\"45\" x=\"285\" y=\"105\" /><rect class=\"square dark h6\" fill=\"#d18b47\" height=\"45\" stroke=\"none\" width=\"45\" x=\"330\" y=\"105\" /><rect class=\"square dark a7\" fill=\"#d18b47\" height=\"45\" stroke=\"none\" width=\"45\" x=\"15\" y=\"60\" /><rect class=\"square light b7\" fill=\"#ffce9e\" height=\"45\" stroke=\"none\" width=\"45\" x=\"60\" y=\"60\" /><rect class=\"square dark c7\" fill=\"#d18b47\" height=\"45\" stroke=\"none\" width=\"45\" x=\"105\" y=\"60\" /><rect class=\"square light d7\" fill=\"#ffce9e\" height=\"45\" stroke=\"none\" width=\"45\" x=\"150\" y=\"60\" /><rect class=\"square dark e7\" fill=\"#d18b47\" height=\"45\" stroke=\"none\" width=\"45\" x=\"195\" y=\"60\" /><rect class=\"square light f7\" fill=\"#ffce9e\" height=\"45\" stroke=\"none\" width=\"45\" x=\"240\" y=\"60\" /><rect class=\"square dark g7\" fill=\"#d18b47\" height=\"45\" stroke=\"none\" width=\"45\" x=\"285\" y=\"60\" /><rect class=\"square light h7\" fill=\"#ffce9e\" height=\"45\" stroke=\"none\" width=\"45\" x=\"330\" y=\"60\" /><rect class=\"square light a8\" fill=\"#ffce9e\" height=\"45\" stroke=\"none\" width=\"45\" x=\"15\" y=\"15\" /><rect class=\"square dark b8\" fill=\"#d18b47\" height=\"45\" stroke=\"none\" width=\"45\" x=\"60\" y=\"15\" /><rect class=\"square light c8\" fill=\"#ffce9e\" height=\"45\" stroke=\"none\" width=\"45\" x=\"105\" y=\"15\" /><rect class=\"square dark d8\" fill=\"#d18b47\" height=\"45\" stroke=\"none\" width=\"45\" x=\"150\" y=\"15\" /><rect class=\"square light e8\" fill=\"#ffce9e\" height=\"45\" stroke=\"none\" width=\"45\" x=\"195\" y=\"15\" /><rect class=\"square dark f8\" fill=\"#d18b47\" height=\"45\" stroke=\"none\" width=\"45\" x=\"240\" y=\"15\" /><rect class=\"square light g8\" fill=\"#ffce9e\" height=\"45\" stroke=\"none\" width=\"45\" x=\"285\" y=\"15\" /><rect class=\"square dark h8\" fill=\"#d18b47\" height=\"45\" stroke=\"none\" width=\"45\" x=\"330\" y=\"15\" /><use href=\"#white-king\" transform=\"translate(195, 240)\" xlink:href=\"#white-king\" /><use href=\"#white-pawn\" transform=\"translate(285, 240)\" xlink:href=\"#white-pawn\" /><use href=\"#white-pawn\" transform=\"translate(15, 195)\" xlink:href=\"#white-pawn\" /><use href=\"#white-pawn\" transform=\"translate(105, 195)\" xlink:href=\"#white-pawn\" /><use href=\"#black-pawn\" transform=\"translate(195, 195)\" xlink:href=\"#black-pawn\" /><use href=\"#white-pawn\" transform=\"translate(330, 195)\" xlink:href=\"#white-pawn\" /><use href=\"#white-pawn\" transform=\"translate(60, 150)\" xlink:href=\"#white-pawn\" /><use href=\"#black-pawn\" transform=\"translate(105, 150)\" xlink:href=\"#black-pawn\" /><use href=\"#black-king\" transform=\"translate(195, 150)\" xlink:href=\"#black-king\" /><use href=\"#black-pawn\" transform=\"translate(330, 150)\" xlink:href=\"#black-pawn\" /><use href=\"#black-pawn\" transform=\"translate(60, 105)\" xlink:href=\"#black-pawn\" /><use href=\"#black-pawn\" transform=\"translate(15, 60)\" xlink:href=\"#black-pawn\" /></svg>"
     },
     "metadata": {},
     "output_type": "display_data"
    }
   ]
  },
  {
   "cell_type": "code",
   "metadata": {
    "cell_id": "76627803a7d14eaa8eaf38b7b426967e",
    "tags": [],
    "deepnote_to_be_reexecuted": false,
    "source_hash": "6669e688",
    "execution_start": 1649790620945,
    "execution_millis": 13,
    "deepnote_cell_type": "code",
    "deepnote_cell_height": 136.1875,
    "deepnote_output_heights": [
     21.1875
    ]
   },
   "source": "board = chess.Board(\"6k1/5ppp/8/4P1q1/8/2N5/P5KP/5R2 b - - 0 31\")\nboard.is_valid()",
   "execution_count": null,
   "outputs": [
    {
     "output_type": "execute_result",
     "execution_count": 41,
     "data": {
      "text/plain": "False"
     },
     "metadata": {}
    }
   ]
  },
  {
   "cell_type": "code",
   "metadata": {
    "cell_id": "b24019d9506d4167875b400ee4169a8e",
    "tags": [],
    "deepnote_to_be_reexecuted": false,
    "source_hash": "ae0e34d2",
    "execution_start": 1649790539653,
    "execution_millis": 4,
    "deepnote_cell_type": "code",
    "deepnote_cell_height": 252.5,
    "deepnote_output_heights": [
     155.5
    ]
   },
   "source": "np.linspace(1, 64, num=64, dtype=int).reshape((8,8))",
   "execution_count": null,
   "outputs": [
    {
     "output_type": "execute_result",
     "execution_count": 36,
     "data": {
      "text/plain": "array([[ 1,  2,  3,  4,  5,  6,  7,  8],\n       [ 9, 10, 11, 12, 13, 14, 15, 16],\n       [17, 18, 19, 20, 21, 22, 23, 24],\n       [25, 26, 27, 28, 29, 30, 31, 32],\n       [33, 34, 35, 36, 37, 38, 39, 40],\n       [41, 42, 43, 44, 45, 46, 47, 48],\n       [49, 50, 51, 52, 53, 54, 55, 56],\n       [57, 58, 59, 60, 61, 62, 63, 64]])"
     },
     "metadata": {}
    }
   ]
  },
  {
   "cell_type": "markdown",
   "source": "# Heuristics",
   "metadata": {
    "id": "4PLJDmvF5_N3",
    "cell_id": "00018-4f7fbe03-0b5a-4e61-a228-73a2e6011a3f",
    "deepnote_cell_type": "markdown",
    "deepnote_cell_height": 82
   }
  },
  {
   "cell_type": "markdown",
   "source": "\n\n1.   Sacrifice: $$\\frac{(w_1 - w_2) - (b_1 - b_2)}{m}, m \\subset \\{9.5, 15.13, 20.76...\\}$$\n2.   Pin: $$$$\n3.   Fork: $$\\frac{1}{f_c}(\\frac{\\sum_{i=1}^{n} v(f_{p_n})}{v(f_k)} + n)$$\n4.   Material Disadvantage: $$\\frac{(b_1 - w_1)}{m}, m=41.52$$\n$m$ is total material value - Should we use total? Or total of the board?\n5.   Using all peice power? Debatable - coz compact positions make beautiful puzzles as well\n6.   Smoothered Mate? - If we value this, it would be quite a bias?\n",
   "metadata": {
    "id": "wVUwP1aF6DZt",
    "cell_id": "00019-f6cd3c70-fae7-42ec-b21a-772e616022c7",
    "deepnote_cell_type": "markdown",
    "deepnote_cell_height": 196.921875
   }
  },
  {
   "cell_type": "code",
   "metadata": {
    "colab": {
     "base_uri": "https://localhost:8080/"
    },
    "id": "q6GOSC2q6AUG",
    "outputId": "71836794-103c-4837-af6d-4a914395c382",
    "cell_id": "00020-9f78c5c2-7964-4b01-8274-65587048fb0b",
    "deepnote_to_be_reexecuted": false,
    "source_hash": "78de513b",
    "execution_start": 1649790540848,
    "execution_millis": 217,
    "deepnote_cell_type": "code",
    "deepnote_cell_height": 4182.375
   },
   "source": "from collections import Counter\n\nclass Heuristics:\n    ADVANTAGE_THRESHOLD = 0.95\n    PIN_THRESHOLD = 0.0\n    FORK_THRESHOLD = 0.05\n    SACRIFICE_THRESHOLD = 0.0\n\n    def __init__(self, values: dict=None) -> None:\n        # Defining inital material value (weights from AlphaZero)\n        self.values = {\n            'p': 1.00,\n            'n': 3.05,\n            'b': 3.33,\n            'r': 5.63,\n            'q': 9.50,\n            'k': 0.00 # we don't consider king's value when counting material\n        }\n        if values:\n            self.values = values\n\n        self.map_fen = {alpha: num for alpha, num in zip(\"abcdefgh\", range(8))}\n\n        # List of all constants\n        # Through previous literature, updated with AlphaZero weights\n        self.pin_constant = 21\n        self.fork_constant = 41.52\n        self.sacrifice_constant = [9.50, 15.13, 20.76, 24.09, 27.42]\n        self.material_disadvantage_constant = 41.52\n\n        self.heuristic_functions = {\n            \"Material\": self.material_disadvantage,\n            \"Sacrifice\": self.sacrifice,\n            \"Pin\": self.pin,\n            \"Fork\": self.fork,\n\n        }\n\n        self.move_generator = MoveGenerator()\n        self.stockfish = Stockfish(stockfish_path + \"stockfish_14.1_linux_x64_avx2\")\n        self.stockfish.set_depth(10)\n\n    def get_piece_pos(self, piece):\n        col, row = piece\n        row = 8 - int(row)\n        col = self.map_fen[col]\n\n        return row, col\n\n    def check_straight_lines(self, board, row, column, friendly_pieces, values):\n        # vertical\n\n        pins = []\n        the_value = -100\n        for target_row in range(row-1, -1, -1):\n            if board[target_row][column] in friendly_pieces:\n                break\n            if board[target_row][column] == '-':\n                continue\n            if the_value == -100:\n                the_value = values[board[target_row][column].lower()]\n            else:\n                # what if next->next->next's value is larger than next->next's but next->next's value is smaller than next's\n                new_value = values[board[target_row][column].lower()]\n                if new_value > the_value:\n                    pins.append(new_value + the_value)\n                    break\n        the_value = -100        \n        for target_row in range(row+1, 8):\n            if board[target_row][column] in friendly_pieces:\n                break\n            if board[target_row][column] == '-':\n                continue\n            if the_value == -100:\n                the_value = values[board[target_row][column].lower()]\n            else:\n                new_value = values[board[target_row][column].lower()]\n                if new_value > the_value:\n                    pins.append(new_value + the_value)\n                    break\n\n        # horizontal\n        the_value = -100\n        for target_column in range(column-1, -1, -1):\n            if board[row][target_column] in friendly_pieces:\n                break\n            if board[row][target_column] == '-':\n                continue\n            if the_value == -100:\n                the_value = values[board[row][target_column].lower()]\n            else:\n                new_value = values[board[row][target_column].lower()]\n                if new_value > the_value:\n                    pins.append(new_value + the_value)\n                    break\n        the_value = -100\n        for target_column in range(column+1, 8):\n            if board[row][target_column] in friendly_pieces:\n                break\n            if board[row][target_column] == '-':\n                continue\n            if the_value == -100:\n                the_value = values[board[row][target_column].lower()]\n            else:\n                new_value = values[board[row][target_column].lower()]\n                if new_value > the_value:\n                    pins.append(new_value + the_value)\n                    break\n        \n        return pins\n\n    def get_pinned_pieces(self, fen_position: str) -> dict:\n        values = self.values\n        values['k'] = 15\n\n        white_pieces = 'RNBQKP'\n        black_pieces = 'rnbqkp'\n\n        player = fen_position.split()[1]\n        friendly_pieces = black_pieces if player == 'b' else white_pieces\n        board_array = MoveGenerator.board_numpy(fen_position)\n                \n        pinned_pieces = []\n        for row in range(8):\n            for column in range(8):\n                piece = board_array[row][column]\n                if piece in friendly_pieces:\n                    the_value = -100\n                    found = 0\n                    if piece.lower() in ['r', 'q']:\n                        straight_pins = self.check_straight_lines(board_array,row,column,friendly_pieces,values)\n                        if len(straight_pins) > 0:\n                            pinned_pieces.append(max(straight_pins))\n\n        return pinned_pieces\n\n    def total_material(self, fen_position: str, **args) -> (float, float):\n        fen = fen_position.split()[0]\n        fen = [piece for piece in fen if piece.isalpha()]\n        counter = Counter(fen)\n\n        white_material = 0\n        black_material = 0\n\n        for piece, count in counter.items():\n            if piece.isupper():\n                white_material += count * self.values[piece.lower()]\n            else:\n                black_material += count * self.values[piece]\n\n        white_material, black_material = round(white_material, 2), round(black_material, 2)\n        return white_material, black_material\n\n    def stockfish_evaluation(self, fen_position: str, *args) -> dict:\n        self.stockfish.set_fen_position(fen_position)\n        return self.stockfish.get_evaluation()\n\n    def material_disadvantage(self, fen_position: str, *args) -> (bool, float):\n        white, black = self.total_material(fen_position=fen_position)\n        return white * Heuristics.ADVANTAGE_THRESHOLD > black, (white - black) / self.material_disadvantage_constant\n\n    def sacrifice(self, fen_position_initial: str, fen_position_end: str, num_moves: int) -> (bool, float):\n        if not fen_position_end:\n            return False, 0\n        white_initial, black_initial = self.total_material(fen_position=fen_position_initial)\n        white_end, black_end = self.total_material(fen_position=fen_position_end)\n\n        sacrifice_value = ((white_initial - white_end) - (black_initial - black_end)) / self.sacrifice_constant[num_moves - 1]\n        \n        return sacrifice_value > Heuristics.SACRIFICE_THRESHOLD, sacrifice_value\n\n    def pin(self, fen_position: str, *args) -> (bool, float):\n        pin_value = 0 # TODO: Calculate the pin value\n        values = self.get_pinned_pieces(fen_position)\n        if values:\n            pin_value = max(pin_value, max(values) / self.pin_constant)\n        \n        return pin_value > Heuristics.PIN_THRESHOLD, pin_value\n\n    def fork(self, fen_position: str, *args) -> (bool, float):\n        moves = self.move_generator.get_capture_moves(fen_position)\n        board_numpy = MoveGenerator.board_numpy(fen_position)\n\n        fork_value = 0 # TODO: Calculate the pin value\n\n        captures = {}\n        for move in moves:\n            if move[:2] in captures:\n                captures[move[:2]].append(move[3:])\n            else:\n                captures[move[:2]] = [move[3:]]\n\n        for key, value in captures.items():\n            row, col = self.get_piece_pos(key)\n            key = board_numpy[row][col]\n            \n            if len(value) > 1:\n                forks = []\n                for captured_piece in value:\n                    row, col = self.get_piece_pos(captured_piece)\n                    piece = board_numpy[row][col]\n\n                    if self.values[piece.lower()] >= self.values[key.lower()]:\n                        forks.append(piece)\n                if len(forks) > 1:\n                    # run fork formula here\n                    fork_value += (1/self.fork_constant) * (sum([self.values[piece.lower()] for piece in forks]) / self.values[key.lower()] + len(forks))\n\n        return fork_value > Heuristics.FORK_THRESHOLD, fork_value\n\n    def get_all_heuristics(self, fen_position_start: str, fen_position_end: str=None, num_moves=None) -> (dict, float):\n        result = {}\n        total = 0\n        for name, func in self.heuristic_functions.items():\n            flag, val = func(fen_position_start, fen_position_end, num_moves)\n            if flag:\n                total += val\n            result[name] = (flag, val)\n        # result[\"stockfish\"] = self.stockfish_evaluation(fen_position_start)\n        return result, total\n\ntest_position = \"2rk3r/1b1p1p1q/q6R/1p2Rp2/2q5/2P2P2/P1P3PP/5R1K w - - 1 21\"\n# test_position = \"r1b5/5pkp/N4p2/R7/2P5/K7/P5PP/8 b - - 0 27\" # Pin\nheur = Heuristics()\nresult, total = heur.get_all_heuristics(test_position)\nprint(f\"Material Disadvantage: {result}\\nTotal: {round(total, 2)}\")",
   "execution_count": null,
   "outputs": [
    {
     "name": "stdout",
     "text": "Material Disadvantage: {'Material': (False, -0.5828516377649325), 'Sacrifice': (False, 0), 'Pin': (False, 0), 'Fork': (False, 0)}\nTotal: 0\n",
     "output_type": "stream"
    }
   ]
  },
  {
   "cell_type": "code",
   "metadata": {
    "cell_id": "23054ffa613b4ce0a0dc70f39efc1746",
    "tags": [],
    "deepnote_to_be_reexecuted": false,
    "source_hash": "75653171",
    "execution_start": 1649790541828,
    "execution_millis": 36,
    "deepnote_cell_type": "code",
    "deepnote_cell_height": 150.375
   },
   "source": "print(len(game.get_all_moves()))\nprint(len([x[0] for x in game.get_all_moves()]))",
   "execution_count": null,
   "outputs": [
    {
     "name": "stdout",
     "text": "51\n51\n",
     "output_type": "stream"
    }
   ]
  },
  {
   "cell_type": "code",
   "metadata": {
    "cell_id": "77751e6568b4446f81e2e9fa29be6b1f",
    "tags": [],
    "deepnote_to_be_reexecuted": false,
    "source_hash": "1572d5ac",
    "execution_start": 1649791553228,
    "execution_millis": 1,
    "deepnote_cell_type": "code",
    "deepnote_cell_height": 405
   },
   "source": "def valid_moves(position):\n    game = GameState(position)\n    validated_states = []\n    print(len(game.get_all_moves()))\n    for moves, fens in game.get_all_moves():\n        move = moves[2:] + moves[:2]\n        \n        print(move, fens)\n\n        fen = fens.split()\n        fen[1] = \"b\" if fen[1] == \"w\" else \"w\"\n        fen = \" \".join(fen)\n        board = chess.Board(fen)\n        if board.is_valid():\n            legal = [uci(x).replace(\"x\", \"\") for x in LegalMoves(board).to_array()]\n            if move in legal:\n                validated_states.append((moves, fens))\n    print(len(validated_states))\n    return validated_states",
   "execution_count": null,
   "outputs": []
  },
  {
   "cell_type": "code",
   "metadata": {
    "cell_id": "f94a2f29285941c0ba9eb61420915d78",
    "tags": [],
    "deepnote_to_be_reexecuted": false,
    "source_hash": "9be16ce4",
    "execution_start": 1649791554886,
    "execution_millis": 1276,
    "owner_user_id": "93eea28a-01d8-4b57-a421-10216577024e",
    "deepnote_cell_type": "code",
    "deepnote_cell_height": 1607.1875
   },
   "source": "import random\nimport time\nposition = \"8/8/p6p/5p1P/1Pk2P2/4K3/8/8 w - - 2 40\"\nposition = \"6k1/5ppp/8/4P3/8/2N1q3/P5KP/5R2 w - - 0 31\"\n\nqueue = [position]\ncount = 0\nstockfish = Stockfish(stockfish_path + \"stockfish_14.1_linux_x64_avx2\")\nstockfish.set_depth(8)\n_start = time.time()\nfor i in range(4):\n    print(\"Depth: \", i)\n    filtered = []\n    while queue:\n\n        position = queue.pop()\n        print(position)\n        moves = valid_moves(position)\n        print(\"Valid Moves: \", len(moves))\n        print([x[0] for x in moves])\n        stockfish.set_fen_position(position)\n        filtered = []\n\n        for move, fen in moves:\n            move = move[2:] + move[:2]\n            fen = fen.split()\n            fen[1] = \"b\" if fen[1] == \"w\" else \"w\"\n            fen = \" \".join(fen)\n\n            stockfish.set_fen_position(fen)\n            top_moves = stockfish.get_top_moves(1)\n            if move in top_moves[0][\"Move\"]:\n                count += 1\n                board = ChessBoard(fen)\n                val = heur.get_all_heuristics(fen)\n                filtered.append((move, fen, top_moves[0][\"Centipawn\"], val))\n\n        position = position.split()\n        position[1] = \"w\" if position[1] == \"b\" else \"b\"\n        position = \" \".join(position)\n        filtered.sort(key=lambda x: x[2])\n        filtered = filtered[:5]\n        filtered = [move[1] for move in filtered]\n        print(filtered)\n    queue.extend(filtered)\nprint(count)\nprint(time.time() - _start)",
   "execution_count": null,
   "outputs": [
    {
     "name": "stdout",
     "text": "Depth:  0\n6k1/5ppp/8/4P3/8/2N1q3/P5KP/5R2 w - - 0 31\n120\nh8g8 7k/5ppp/8/4P3/8/2N1q3/P5KP/5R2 w - - 1 32\nf8g8 5k2/5ppp/8/4P3/8/2N1q3/P5KP/5R2 w - - 1 32\na7e3 6k1/q4ppp/8/4P3/8/2N5/P5KP/5R2 w - - 1 32\nh6e3 6k1/5ppp/7q/4P3/8/2N5/P5KP/5R2 w - - 1 32\nb6e3 6k1/5ppp/1q6/4P3/8/2N5/P5KP/5R2 w - - 1 32\ng5e3 6k1/5ppp/8/4P1q1/8/2N5/P5KP/5R2 w - - 1 32\nc5e3 6k1/5ppp/8/2q1P3/8/2N5/P5KP/5R2 w - - 1 32\nf4e3 6k1/5ppp/8/4P3/5q2/2N5/P5KP/5R2 w - - 1 32\ne4e3 6k1/5ppp/8/4P3/4q3/2N5/P5KP/5R2 w - - 1 32\nd4e3 6k1/5ppp/8/4P3/3q4/2N5/P5KP/5R2 w - - 1 32\nh3e3 6k1/5ppp/8/4P3/8/2N4q/P5KP/5R2 w - - 1 32\ng3e3 6k1/5ppp/8/4P3/8/2N3q1/P5KP/5R2 w - - 1 32\nf3e3 6k1/5ppp/8/4P3/8/2N2q2/P5KP/5R2 w - - 1 32\nd3e3 6k1/5ppp/8/4P3/8/2Nq4/P5KP/5R2 w - - 1 32\nf2e3 6k1/5ppp/8/4P3/8/2N5/P4qKP/5R2 w - - 1 32\ne2e3 6k1/5ppp/8/4P3/8/2N5/P3q1KP/5R2 w - - 1 32\nd2e3 6k1/5ppp/8/4P3/8/2N5/P2q2KP/5R2 w - - 1 32\ng1e3 6k1/5ppp/8/4P3/8/2N5/P5KP/5Rq1 w - - 1 32\ne1e3 6k1/5ppp/8/4P3/8/2N5/P5KP/4qR2 w - - 1 32\nc1e3 6k1/5ppp/8/4P3/8/2N5/P5KP/2q2R2 w - - 1 32\nh8g8 6Nk/5ppp/8/4P3/8/2N1q3/P5KP/5R2 w - - 1 32\nh8g8 6Qk/5ppp/8/4P3/8/2N1q3/P5KP/5R2 w - - 1 32\nh8g8 6Rk/5ppp/8/4P3/8/2N1q3/P5KP/5R2 w - - 1 32\nh8g8 6Pk/5ppp/8/4P3/8/2N1q3/P5KP/5R2 w - - 1 32\nh8g8 6Bk/5ppp/8/4P3/8/2N1q3/P5KP/5R2 w - - 1 32\nf8g8 5kN1/5ppp/8/4P3/8/2N1q3/P5KP/5R2 w - - 1 32\nf8g8 5kQ1/5ppp/8/4P3/8/2N1q3/P5KP/5R2 w - - 1 32\nf8g8 5kR1/5ppp/8/4P3/8/2N1q3/P5KP/5R2 w - - 1 32\nf8g8 5kP1/5ppp/8/4P3/8/2N1q3/P5KP/5R2 w - - 1 32\nf8g8 5kB1/5ppp/8/4P3/8/2N1q3/P5KP/5R2 w - - 1 32\na7e3 6k1/q4ppp/8/4P3/8/2N1N3/P5KP/5R2 w - - 1 32\na7e3 6k1/q4ppp/8/4P3/8/2N1Q3/P5KP/5R2 w - - 1 32\na7e3 6k1/q4ppp/8/4P3/8/2N1R3/P5KP/5R2 w - - 1 32\na7e3 6k1/q4ppp/8/4P3/8/2N1P3/P5KP/5R2 w - - 1 32\na7e3 6k1/q4ppp/8/4P3/8/2N1B3/P5KP/5R2 w - - 1 32\nh6e3 6k1/5ppp/7q/4P3/8/2N1N3/P5KP/5R2 w - - 1 32\nh6e3 6k1/5ppp/7q/4P3/8/2N1Q3/P5KP/5R2 w - - 1 32\nh6e3 6k1/5ppp/7q/4P3/8/2N1R3/P5KP/5R2 w - - 1 32\nh6e3 6k1/5ppp/7q/4P3/8/2N1P3/P5KP/5R2 w - - 1 32\nh6e3 6k1/5ppp/7q/4P3/8/2N1B3/P5KP/5R2 w - - 1 32\nb6e3 6k1/5ppp/1q6/4P3/8/2N1N3/P5KP/5R2 w - - 1 32\nb6e3 6k1/5ppp/1q6/4P3/8/2N1Q3/P5KP/5R2 w - - 1 32\nb6e3 6k1/5ppp/1q6/4P3/8/2N1R3/P5KP/5R2 w - - 1 32\nb6e3 6k1/5ppp/1q6/4P3/8/2N1P3/P5KP/5R2 w - - 1 32\nb6e3 6k1/5ppp/1q6/4P3/8/2N1B3/P5KP/5R2 w - - 1 32\ng5e3 6k1/5ppp/8/4P1q1/8/2N1N3/P5KP/5R2 w - - 1 32\ng5e3 6k1/5ppp/8/4P1q1/8/2N1Q3/P5KP/5R2 w - - 1 32\ng5e3 6k1/5ppp/8/4P1q1/8/2N1R3/P5KP/5R2 w - - 1 32\ng5e3 6k1/5ppp/8/4P1q1/8/2N1P3/P5KP/5R2 w - - 1 32\ng5e3 6k1/5ppp/8/4P1q1/8/2N1B3/P5KP/5R2 w - - 1 32\nc5e3 6k1/5ppp/8/2q1P3/8/2N1N3/P5KP/5R2 w - - 1 32\nc5e3 6k1/5ppp/8/2q1P3/8/2N1Q3/P5KP/5R2 w - - 1 32\nc5e3 6k1/5ppp/8/2q1P3/8/2N1R3/P5KP/5R2 w - - 1 32\nc5e3 6k1/5ppp/8/2q1P3/8/2N1P3/P5KP/5R2 w - - 1 32\nc5e3 6k1/5ppp/8/2q1P3/8/2N1B3/P5KP/5R2 w - - 1 32\nf4e3 6k1/5ppp/8/4P3/5q2/2N1N3/P5KP/5R2 w - - 1 32\nf4e3 6k1/5ppp/8/4P3/5q2/2N1Q3/P5KP/5R2 w - - 1 32\nf4e3 6k1/5ppp/8/4P3/5q2/2N1R3/P5KP/5R2 w - - 1 32\nf4e3 6k1/5ppp/8/4P3/5q2/2N1P3/P5KP/5R2 w - - 1 32\nf4e3 6k1/5ppp/8/4P3/5q2/2N1B3/P5KP/5R2 w - - 1 32\ne4e3 6k1/5ppp/8/4P3/4q3/2N1N3/P5KP/5R2 w - - 1 32\ne4e3 6k1/5ppp/8/4P3/4q3/2N1Q3/P5KP/5R2 w - - 1 32\ne4e3 6k1/5ppp/8/4P3/4q3/2N1R3/P5KP/5R2 w - - 1 32\ne4e3 6k1/5ppp/8/4P3/4q3/2N1P3/P5KP/5R2 w - - 1 32\ne4e3 6k1/5ppp/8/4P3/4q3/2N1B3/P5KP/5R2 w - - 1 32\nd4e3 6k1/5ppp/8/4P3/3q4/2N1N3/P5KP/5R2 w - - 1 32\nd4e3 6k1/5ppp/8/4P3/3q4/2N1Q3/P5KP/5R2 w - - 1 32\nd4e3 6k1/5ppp/8/4P3/3q4/2N1R3/P5KP/5R2 w - - 1 32\nd4e3 6k1/5ppp/8/4P3/3q4/2N1P3/P5KP/5R2 w - - 1 32\nd4e3 6k1/5ppp/8/4P3/3q4/2N1B3/P5KP/5R2 w - - 1 32\nh3e3 6k1/5ppp/8/4P3/8/2N1N2q/P5KP/5R2 w - - 1 32\nh3e3 6k1/5ppp/8/4P3/8/2N1Q2q/P5KP/5R2 w - - 1 32\nh3e3 6k1/5ppp/8/4P3/8/2N1R2q/P5KP/5R2 w - - 1 32\nh3e3 6k1/5ppp/8/4P3/8/2N1P2q/P5KP/5R2 w - - 1 32\nh3e3 6k1/5ppp/8/4P3/8/2N1B2q/P5KP/5R2 w - - 1 32\ng3e3 6k1/5ppp/8/4P3/8/2N1N1q1/P5KP/5R2 w - - 1 32\ng3e3 6k1/5ppp/8/4P3/8/2N1Q1q1/P5KP/5R2 w - - 1 32\ng3e3 6k1/5ppp/8/4P3/8/2N1R1q1/P5KP/5R2 w - - 1 32\ng3e3 6k1/5ppp/8/4P3/8/2N1P1q1/P5KP/5R2 w - - 1 32\ng3e3 6k1/5ppp/8/4P3/8/2N1B1q1/P5KP/5R2 w - - 1 32\nf3e3 6k1/5ppp/8/4P3/8/2N1Nq2/P5KP/5R2 w - - 1 32\nf3e3 6k1/5ppp/8/4P3/8/2N1Qq2/P5KP/5R2 w - - 1 32\nf3e3 6k1/5ppp/8/4P3/8/2N1Rq2/P5KP/5R2 w - - 1 32\nf3e3 6k1/5ppp/8/4P3/8/2N1Pq2/P5KP/5R2 w - - 1 32\nf3e3 6k1/5ppp/8/4P3/8/2N1Bq2/P5KP/5R2 w - - 1 32\nd3e3 6k1/5ppp/8/4P3/8/2NqN3/P5KP/5R2 w - - 1 32\nd3e3 6k1/5ppp/8/4P3/8/2NqQ3/P5KP/5R2 w - - 1 32\nd3e3 6k1/5ppp/8/4P3/8/2NqR3/P5KP/5R2 w - - 1 32\nd3e3 6k1/5ppp/8/4P3/8/2NqP3/P5KP/5R2 w - - 1 32\nd3e3 6k1/5ppp/8/4P3/8/2NqB3/P5KP/5R2 w - - 1 32\nf2e3 6k1/5ppp/8/4P3/8/2N1N3/P4qKP/5R2 w - - 1 32\nf2e3 6k1/5ppp/8/4P3/8/2N1Q3/P4qKP/5R2 w - - 1 32\nf2e3 6k1/5ppp/8/4P3/8/2N1R3/P4qKP/5R2 w - - 1 32\nf2e3 6k1/5ppp/8/4P3/8/2N1P3/P4qKP/5R2 w - - 1 32\nf2e3 6k1/5ppp/8/4P3/8/2N1B3/P4qKP/5R2 w - - 1 32\ne2e3 6k1/5ppp/8/4P3/8/2N1N3/P3q1KP/5R2 w - - 1 32\ne2e3 6k1/5ppp/8/4P3/8/2N1Q3/P3q1KP/5R2 w - - 1 32\ne2e3 6k1/5ppp/8/4P3/8/2N1R3/P3q1KP/5R2 w - - 1 32\ne2e3 6k1/5ppp/8/4P3/8/2N1P3/P3q1KP/5R2 w - - 1 32\ne2e3 6k1/5ppp/8/4P3/8/2N1B3/P3q1KP/5R2 w - - 1 32\nd2e3 6k1/5ppp/8/4P3/8/2N1N3/P2q2KP/5R2 w - - 1 32\nd2e3 6k1/5ppp/8/4P3/8/2N1Q3/P2q2KP/5R2 w - - 1 32\nd2e3 6k1/5ppp/8/4P3/8/2N1R3/P2q2KP/5R2 w - - 1 32\nd2e3 6k1/5ppp/8/4P3/8/2N1P3/P2q2KP/5R2 w - - 1 32\nd2e3 6k1/5ppp/8/4P3/8/2N1B3/P2q2KP/5R2 w - - 1 32\ng1e3 6k1/5ppp/8/4P3/8/2N1N3/P5KP/5Rq1 w - - 1 32\ng1e3 6k1/5ppp/8/4P3/8/2N1Q3/P5KP/5Rq1 w - - 1 32\ng1e3 6k1/5ppp/8/4P3/8/2N1R3/P5KP/5Rq1 w - - 1 32\ng1e3 6k1/5ppp/8/4P3/8/2N1P3/P5KP/5Rq1 w - - 1 32\ng1e3 6k1/5ppp/8/4P3/8/2N1B3/P5KP/5Rq1 w - - 1 32\ne1e3 6k1/5ppp/8/4P3/8/2N1N3/P5KP/4qR2 w - - 1 32\ne1e3 6k1/5ppp/8/4P3/8/2N1Q3/P5KP/4qR2 w - - 1 32\ne1e3 6k1/5ppp/8/4P3/8/2N1R3/P5KP/4qR2 w - - 1 32\ne1e3 6k1/5ppp/8/4P3/8/2N1P3/P5KP/4qR2 w - - 1 32\ne1e3 6k1/5ppp/8/4P3/8/2N1B3/P5KP/4qR2 w - - 1 32\nc1e3 6k1/5ppp/8/4P3/8/2N1N3/P5KP/2q2R2 w - - 1 32\nc1e3 6k1/5ppp/8/4P3/8/2N1Q3/P5KP/2q2R2 w - - 1 32\nc1e3 6k1/5ppp/8/4P3/8/2N1R3/P5KP/2q2R2 w - - 1 32\nc1e3 6k1/5ppp/8/4P3/8/2N1P3/P5KP/2q2R2 w - - 1 32\nc1e3 6k1/5ppp/8/4P3/8/2N1B3/P5KP/2q2R2 w - - 1 32\n64\nValid Moves:  64\n['g8h8', 'g8f8', 'e3a7', 'e3h6', 'e3b6', 'e3c5', 'e3f4', 'e3d4', 'e3d3', 'e3e1', 'e3c1', 'g8h8', 'g8h8', 'g8h8', 'g8h8', 'g8f8', 'g8f8', 'g8f8', 'g8f8', 'e3a7', 'e3a7', 'e3a7', 'e3a7', 'e3a7', 'e3h6', 'e3h6', 'e3h6', 'e3h6', 'e3h6', 'e3b6', 'e3b6', 'e3b6', 'e3b6', 'e3b6', 'e3c5', 'e3c5', 'e3c5', 'e3c5', 'e3c5', 'e3f4', 'e3f4', 'e3f4', 'e3f4', 'e3f4', 'e3d4', 'e3d4', 'e3d4', 'e3d4', 'e3d4', 'e3d3', 'e3d3', 'e3d3', 'e3d3', 'e3d3', 'e3e1', 'e3e1', 'e3e1', 'e3e1', 'e3e1', 'e3c1', 'e3c1', 'e3c1', 'e3c1', 'e3c1']\n['6k1/5ppp/8/4P3/8/2N1Q3/P5KP/4qR2 b - - 1 32', '6k1/q4ppp/8/4P3/8/2N1N3/P5KP/5R2 b - - 1 32', '6Qk/5ppp/8/4P3/8/2N1q3/P5KP/5R2 b - - 1 32', '6Rk/5ppp/8/4P3/8/2N1q3/P5KP/5R2 b - - 1 32', '5kQ1/5ppp/8/4P3/8/2N1q3/P5KP/5R2 b - - 1 32']\nDepth:  1\n5kQ1/5ppp/8/4P3/8/2N1q3/P5KP/5R2 b - - 1 32\n114\nh8g8 5k1Q/5ppp/8/4P3/8/2N1q3/P5KP/5R2 b - - 2 32\nd5c3 5kQ1/5ppp/8/3NP3/8/4q3/P5KP/5R2 b - - 2 32\nb5c3 5kQ1/5ppp/8/1N2P3/8/4q3/P5KP/5R2 b - - 2 32\ne4c3 5kQ1/5ppp/8/4P3/4N3/4q3/P5KP/5R2 b - - 2 32\na4c3 5kQ1/5ppp/8/4P3/N7/4q3/P5KP/5R2 b - - 2 32\ne2c3 5kQ1/5ppp/8/4P3/8/4q3/P3N1KP/5R2 b - - 2 32\nd1c3 5kQ1/5ppp/8/4P3/8/4q3/P5KP/3N1R2 b - - 2 32\nb1c3 5kQ1/5ppp/8/4P3/8/4q3/P5KP/1N3R2 b - - 2 32\nh1g2 5kQ1/5ppp/8/4P3/8/2N1q3/P6P/5R1K b - - 2 32\nf6f1 5kQ1/5ppp/5R2/4P3/8/2N1q3/P5KP/8 b - - 2 32\nf5f1 5kQ1/5ppp/8/4PR2/8/2N1q3/P5KP/8 b - - 2 32\nf4f1 5kQ1/5ppp/8/4P3/5R2/2N1q3/P5KP/8 b - - 2 32\nf3f1 5kQ1/5ppp/8/4P3/8/2N1qR2/P5KP/8 b - - 2 32\nf2f1 5kQ1/5ppp/8/4P3/8/2N1q3/P4RKP/8 b - - 2 32\nh1f1 5kQ1/5ppp/8/4P3/8/2N1q3/P5KP/7R b - - 2 32\ng1f1 5kQ1/5ppp/8/4P3/8/2N1q3/P5KP/6R1 b - - 2 32\ne1f1 5kQ1/5ppp/8/4P3/8/2N1q3/P5KP/4R3 b - - 2 32\nd1f1 5kQ1/5ppp/8/4P3/8/2N1q3/P5KP/3R4 b - - 2 32\nc1f1 5kQ1/5ppp/8/4P3/8/2N1q3/P5KP/2R5 b - - 2 32\nb1f1 5kQ1/5ppp/8/4P3/8/2N1q3/P5KP/1R6 b - - 2 32\na1f1 5kQ1/5ppp/8/4P3/8/2N1q3/P5KP/R7 b - - 2 32\ne4e5 5kQ1/5ppp/8/8/4P3/2N1q3/P5KP/5R2 b - - 0 32\nh8g8 5kpQ/5ppp/8/4P3/8/2N1q3/P5KP/5R2 b - - 2 32\nh8g8 5kbQ/5ppp/8/4P3/8/2N1q3/P5KP/5R2 b - - 2 32\nh8g8 5krQ/5ppp/8/4P3/8/2N1q3/P5KP/5R2 b - - 2 32\nh8g8 5knQ/5ppp/8/4P3/8/2N1q3/P5KP/5R2 b - - 2 32\nd5c3 5kQ1/5ppp/8/3NP3/8/2p1q3/P5KP/5R2 b - - 2 32\nd5c3 5kQ1/5ppp/8/3NP3/8/2b1q3/P5KP/5R2 b - - 2 32\nd5c3 5kQ1/5ppp/8/3NP3/8/2r1q3/P5KP/5R2 b - - 2 32\nd5c3 5kQ1/5ppp/8/3NP3/8/2n1q3/P5KP/5R2 b - - 2 32\nb5c3 5kQ1/5ppp/8/1N2P3/8/2p1q3/P5KP/5R2 b - - 2 32\nb5c3 5kQ1/5ppp/8/1N2P3/8/2b1q3/P5KP/5R2 b - - 2 32\nb5c3 5kQ1/5ppp/8/1N2P3/8/2r1q3/P5KP/5R2 b - - 2 32\nb5c3 5kQ1/5ppp/8/1N2P3/8/2n1q3/P5KP/5R2 b - - 2 32\ne4c3 5kQ1/5ppp/8/4P3/4N3/2p1q3/P5KP/5R2 b - - 2 32\ne4c3 5kQ1/5ppp/8/4P3/4N3/2b1q3/P5KP/5R2 b - - 2 32\ne4c3 5kQ1/5ppp/8/4P3/4N3/2r1q3/P5KP/5R2 b - - 2 32\ne4c3 5kQ1/5ppp/8/4P3/4N3/2n1q3/P5KP/5R2 b - - 2 32\na4c3 5kQ1/5ppp/8/4P3/N7/2p1q3/P5KP/5R2 b - - 2 32\na4c3 5kQ1/5ppp/8/4P3/N7/2b1q3/P5KP/5R2 b - - 2 32\na4c3 5kQ1/5ppp/8/4P3/N7/2r1q3/P5KP/5R2 b - - 2 32\na4c3 5kQ1/5ppp/8/4P3/N7/2n1q3/P5KP/5R2 b - - 2 32\ne2c3 5kQ1/5ppp/8/4P3/8/2p1q3/P3N1KP/5R2 b - - 2 32\ne2c3 5kQ1/5ppp/8/4P3/8/2b1q3/P3N1KP/5R2 b - - 2 32\ne2c3 5kQ1/5ppp/8/4P3/8/2r1q3/P3N1KP/5R2 b - - 2 32\ne2c3 5kQ1/5ppp/8/4P3/8/2n1q3/P3N1KP/5R2 b - - 2 32\nd1c3 5kQ1/5ppp/8/4P3/8/2p1q3/P5KP/3N1R2 b - - 2 32\nd1c3 5kQ1/5ppp/8/4P3/8/2b1q3/P5KP/3N1R2 b - - 2 32\nd1c3 5kQ1/5ppp/8/4P3/8/2r1q3/P5KP/3N1R2 b - - 2 32\nd1c3 5kQ1/5ppp/8/4P3/8/2n1q3/P5KP/3N1R2 b - - 2 32\nb1c3 5kQ1/5ppp/8/4P3/8/2p1q3/P5KP/1N3R2 b - - 2 32\nb1c3 5kQ1/5ppp/8/4P3/8/2b1q3/P5KP/1N3R2 b - - 2 32\nb1c3 5kQ1/5ppp/8/4P3/8/2r1q3/P5KP/1N3R2 b - - 2 32\nb1c3 5kQ1/5ppp/8/4P3/8/2n1q3/P5KP/1N3R2 b - - 2 32\nh1g2 5kQ1/5ppp/8/4P3/8/2N1q3/P5pP/5R1K b - - 2 32\nh1g2 5kQ1/5ppp/8/4P3/8/2N1q3/P5bP/5R1K b - - 2 32\nh1g2 5kQ1/5ppp/8/4P3/8/2N1q3/P5rP/5R1K b - - 2 32\nh1g2 5kQ1/5ppp/8/4P3/8/2N1q3/P5nP/5R1K b - - 2 32\nf6f1 5kQ1/5ppp/5R2/4P3/8/2N1q3/P5KP/5p2\n",
     "output_type": "stream"
    },
    {
     "output_type": "error",
     "ename": "IndexError",
     "evalue": "list index out of range",
     "traceback": [
      "\u001b[0;31m---------------------------------------------------------------------------\u001b[0m",
      "\u001b[0;31mIndexError\u001b[0m                                Traceback (most recent call last)",
      "\u001b[0;32m<ipython-input-66-ce1bade9159c>\u001b[0m in \u001b[0;36m<module>\u001b[0;34m\u001b[0m\n\u001b[1;32m     17\u001b[0m         \u001b[0mposition\u001b[0m \u001b[0;34m=\u001b[0m \u001b[0mqueue\u001b[0m\u001b[0;34m.\u001b[0m\u001b[0mpop\u001b[0m\u001b[0;34m(\u001b[0m\u001b[0;34m)\u001b[0m\u001b[0;34m\u001b[0m\u001b[0;34m\u001b[0m\u001b[0m\n\u001b[1;32m     18\u001b[0m         \u001b[0mprint\u001b[0m\u001b[0;34m(\u001b[0m\u001b[0mposition\u001b[0m\u001b[0;34m)\u001b[0m\u001b[0;34m\u001b[0m\u001b[0;34m\u001b[0m\u001b[0m\n\u001b[0;32m---> 19\u001b[0;31m         \u001b[0mmoves\u001b[0m \u001b[0;34m=\u001b[0m \u001b[0mvalid_moves\u001b[0m\u001b[0;34m(\u001b[0m\u001b[0mposition\u001b[0m\u001b[0;34m)\u001b[0m\u001b[0;34m\u001b[0m\u001b[0;34m\u001b[0m\u001b[0m\n\u001b[0m\u001b[1;32m     20\u001b[0m         \u001b[0mprint\u001b[0m\u001b[0;34m(\u001b[0m\u001b[0;34m\"Valid Moves: \"\u001b[0m\u001b[0;34m,\u001b[0m \u001b[0mlen\u001b[0m\u001b[0;34m(\u001b[0m\u001b[0mmoves\u001b[0m\u001b[0;34m)\u001b[0m\u001b[0;34m)\u001b[0m\u001b[0;34m\u001b[0m\u001b[0;34m\u001b[0m\u001b[0m\n\u001b[1;32m     21\u001b[0m         \u001b[0mprint\u001b[0m\u001b[0;34m(\u001b[0m\u001b[0;34m[\u001b[0m\u001b[0mx\u001b[0m\u001b[0;34m[\u001b[0m\u001b[0;36m0\u001b[0m\u001b[0;34m]\u001b[0m \u001b[0;32mfor\u001b[0m \u001b[0mx\u001b[0m \u001b[0;32min\u001b[0m \u001b[0mmoves\u001b[0m\u001b[0;34m]\u001b[0m\u001b[0;34m)\u001b[0m\u001b[0;34m\u001b[0m\u001b[0;34m\u001b[0m\u001b[0m\n",
      "\u001b[0;32m<ipython-input-65-1cdf961ede05>\u001b[0m in \u001b[0;36mvalid_moves\u001b[0;34m(position)\u001b[0m\n\u001b[1;32m      9\u001b[0m \u001b[0;34m\u001b[0m\u001b[0m\n\u001b[1;32m     10\u001b[0m         \u001b[0mfen\u001b[0m \u001b[0;34m=\u001b[0m \u001b[0mfens\u001b[0m\u001b[0;34m.\u001b[0m\u001b[0msplit\u001b[0m\u001b[0;34m(\u001b[0m\u001b[0;34m)\u001b[0m\u001b[0;34m\u001b[0m\u001b[0;34m\u001b[0m\u001b[0m\n\u001b[0;32m---> 11\u001b[0;31m         \u001b[0mfen\u001b[0m\u001b[0;34m[\u001b[0m\u001b[0;36m1\u001b[0m\u001b[0;34m]\u001b[0m \u001b[0;34m=\u001b[0m \u001b[0;34m\"b\"\u001b[0m \u001b[0;32mif\u001b[0m \u001b[0mfen\u001b[0m\u001b[0;34m[\u001b[0m\u001b[0;36m1\u001b[0m\u001b[0;34m]\u001b[0m \u001b[0;34m==\u001b[0m \u001b[0;34m\"w\"\u001b[0m \u001b[0;32melse\u001b[0m \u001b[0;34m\"w\"\u001b[0m\u001b[0;34m\u001b[0m\u001b[0;34m\u001b[0m\u001b[0m\n\u001b[0m\u001b[1;32m     12\u001b[0m         \u001b[0mfen\u001b[0m \u001b[0;34m=\u001b[0m \u001b[0;34m\" \"\u001b[0m\u001b[0;34m.\u001b[0m\u001b[0mjoin\u001b[0m\u001b[0;34m(\u001b[0m\u001b[0mfen\u001b[0m\u001b[0;34m)\u001b[0m\u001b[0;34m\u001b[0m\u001b[0;34m\u001b[0m\u001b[0m\n\u001b[1;32m     13\u001b[0m         \u001b[0mboard\u001b[0m \u001b[0;34m=\u001b[0m \u001b[0mchess\u001b[0m\u001b[0;34m.\u001b[0m\u001b[0mBoard\u001b[0m\u001b[0;34m(\u001b[0m\u001b[0mfen\u001b[0m\u001b[0;34m)\u001b[0m\u001b[0;34m\u001b[0m\u001b[0;34m\u001b[0m\u001b[0m\n",
      "\u001b[0;31mIndexError\u001b[0m: list index out of range"
     ]
    }
   ]
  },
  {
   "cell_type": "code",
   "metadata": {
    "cell_id": "5f2fddc2bfc74a6c824457b0809b9c8e",
    "tags": [],
    "deepnote_to_be_reexecuted": false,
    "source_hash": "e7235a1c",
    "execution_start": 1649785647109,
    "execution_millis": 1,
    "owner_user_id": "c7d74e8b-86b1-4269-a9b5-f276c2f20fab",
    "deepnote_cell_type": "code",
    "deepnote_cell_height": 1611
   },
   "source": "# def check_diagonal_lines(board, row, column, friendly_pieces, values):\n#     pins = []\n#     # upper left\n#     target_row = row-1\n#     target_column = column-1\n#     the_value = -100\n#     while target_row >=0 and target_column >= 0:\n#         if board[target_row][target_column] in friendly_pieces:\n#             break\n#         if board[target_row][target_column] == '-':\n#         target_row = target_row-1\n#         target_column = target_column-1\n#         continue\n#         if the_value == -100:\n#         the_value = values[board[target_row][target_column].lower()]\n#         else:\n#         new_value = values[board[target_row][target_column].lower()]\n#         if new_value > the_value:\n#             pins.append(new_value + the_value)\n#             break\n#         target_row = target_row-1\n#         target_column = target_column-1\n\n#     # upper right\n#     target_row = row-1\n#     target_column = column+1\n#     the_value = -100\n#     while target_row >= 0 and target_column <= 7:\n#         if board[target_row][target_column] in friendly_pieces:\n#         break\n#         if board[target_row][target_column] == '-':\n#         target_row = target_row-1\n#         target_column = target_column+1\n#         continue\n#         if the_value == -100:\n#         the_value = values[board[target_row][target_column].lower()]\n#         else:\n#         new_value = values[board[target_row][target_column].lower()]\n#         if new_value > the_value:\n#             pins.append(new_value + the_value)\n#             break\n#         target_row = target_row-1\n#         target_column = target_column+1\n\n#     # lower left\n#     target_row = row+1\n#     target_column = column-1\n#     the_value = -100\n#     while target_row <= 7 and target_column >= 0:\n#         if board[target_row][target_column] in friendly_pieces:\n#         break\n#         if board[target_row][target_column] == '-':\n#         target_row = target_row+1\n#         target_column = target_column-1\n#         continue\n#         if the_value == -100:\n#         the_value = values[board[target_row][target_column].lower()]\n#         else:\n#         new_value = values[board[target_row][target_column].lower()]\n#         if new_value > the_value:\n#             pins.append(new_value + the_value)\n#             break\n#         target_row = target_row+1\n#         target_column = target_column-1\n\n#     # lower right\n#     target_row = row+1\n#     target_column = column+1\n#     the_value = -100\n#     while target_row <= 7 and target_column <= 7:\n#         if board[target_row][target_column] in friendly_pieces:\n#         break\n#         if board[target_row][target_column] == '-':\n#         target_row = target_row+1\n#         target_column = target_column+1\n#         continue\n#         if the_value == -100:\n#         the_value = values[board[target_row][target_column].lower()]\n#         else:\n#         new_value = values[board[target_row][target_column].lower()]\n#         if new_value > the_value:\n#             pins.append(new_value + the_value)\n#             break\n#         target_row = target_row+1\n#         target_column = target_column+1\n# return pins",
   "execution_count": null,
   "outputs": []
  },
  {
   "cell_type": "code",
   "metadata": {
    "cell_id": "e77fbfe716234dedb68b9fa141b563a4",
    "tags": [],
    "deepnote_to_be_reexecuted": false,
    "source_hash": "10d9cb20",
    "execution_start": 1649785647754,
    "execution_millis": 574,
    "deepnote_cell_type": "code",
    "deepnote_cell_height": 230.75,
    "deepnote_output_heights": [
     null,
     21.1875
    ]
   },
   "source": "",
   "execution_count": null,
   "outputs": [
    {
     "name": "stdout",
     "text": "8/p7/1p6/1Pp1k2p/P1P1p2P/4K1P1/8/8 w - - 2 45\n",
     "output_type": "stream"
    },
    {
     "data": {
      "text/plain": "<__main__.GameState at 0x7feeec883810>"
     },
     "metadata": {},
     "output_type": "display_data"
    },
    {
     "name": "stdout",
     "text": "['b6c7', 'c5d6', 'h5g6', 'e4d5', 'e4f5']\nValid Moves:  54\n",
     "output_type": "stream"
    }
   ]
  },
  {
   "cell_type": "code",
   "metadata": {
    "cell_id": "8d7cdd647c6a44cbbc70ec8b43e53388",
    "tags": [],
    "deepnote_cell_type": "code",
    "deepnote_cell_height": 66
   },
   "source": "",
   "execution_count": null,
   "outputs": []
  },
  {
   "cell_type": "markdown",
   "source": "<a style='text-decoration:none;line-height:16px;display:flex;color:#5B5B62;padding:10px;justify-content:end;' href='https://deepnote.com?utm_source=created-in-deepnote-cell&projectId=ea17c0f2-6b73-4dad-aeb1-6480d829e006' target=\"_blank\">\n<img alt='Created in deepnote.com' style='display:inline;max-height:16px;margin:0px;margin-right:7.5px;' src='data:image/svg+xml;base64,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' > </img>\nCreated in <span style='font-weight:600;margin-left:4px;'>Deepnote</span></a>",
   "metadata": {
    "tags": [],
    "created_in_deepnote_cell": true,
    "deepnote_cell_type": "markdown"
   }
  }
 ],
 "nbformat": 4,
 "nbformat_minor": 5,
 "metadata": {
  "kernelspec": {
   "display_name": "Python 3 (ipykernel)",
   "language": "python",
   "name": "python3"
  },
  "language_info": {
   "codemirror_mode": {
    "name": "ipython",
    "version": 3
   },
   "file_extension": ".py",
   "mimetype": "text/x-python",
   "name": "python",
   "nbconvert_exporter": "python",
   "pygments_lexer": "ipython3",
   "version": "3.9.7"
  },
  "colab": {
   "name": "Stockfish Test.ipynb",
   "provenance": [],
   "collapsed_sections": [],
   "toc_visible": true
  },
  "deepnote_notebook_id": "c03108a2-ee8e-4b5f-8be4-0556b2f70e0d",
  "deepnote": {},
  "deepnote_execution_queue": []
 }
}